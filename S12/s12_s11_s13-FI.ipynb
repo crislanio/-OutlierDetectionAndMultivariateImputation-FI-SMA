{
 "cells": [
  {
   "cell_type": "markdown",
   "metadata": {},
   "source": [
    "# Notebook para tratamento dos dados"
   ]
  },
  {
   "cell_type": "code",
   "execution_count": 3,
   "metadata": {},
   "outputs": [],
   "source": [
    "import pandas as pd\n",
    "import numpy as np\n",
    "import matplotlib.pyplot as plt\n",
    "import seaborn as sns\n",
    "from sklearn.model_selection import train_test_split\n",
    "\n",
    "#style.use('seaborn')\n",
    "%matplotlib inline\n"
   ]
  },
  {
   "cell_type": "code",
   "execution_count": 4,
   "metadata": {},
   "outputs": [],
   "source": [
    "import warnings\n",
    "warnings.filterwarnings('ignore')\n",
    "warnings.simplefilter(action='ignore', category=FutureWarning)\n",
    "with warnings.catch_warnings():\n",
    "    warnings.simplefilter(\"ignore\")\n",
    "    from sklearn import preprocessing, metrics\n",
    "# !pip install -U scikit-fuzzy\n",
    "import sys\n",
    "import skfuzzy as fuzz\n",
    "sys.setrecursionlimit(1000)"
   ]
  },
  {
   "cell_type": "code",
   "execution_count": 5,
   "metadata": {},
   "outputs": [],
   "source": [
    "data_column_names = [\"Date\", \"Time\", \"Epoch\", \"Moteid\", \"Temperature\", \"Humidity\", \"Light\", \"Voltage\"]\n",
    "dplot = pd.read_csv(\"../data.txt\", sep = ' ', names = data_column_names)\n",
    "\n",
    "S11df = dplot[dplot['Moteid']==11]\n",
    "S13df = dplot[dplot['Moteid']==13]"
   ]
  },
  {
   "cell_type": "code",
   "execution_count": 6,
   "metadata": {},
   "outputs": [
    {
     "data": {
      "text/plain": [
       "((65589, 8), (65589, 8), (31505, 8))"
      ]
     },
     "execution_count": 6,
     "metadata": {},
     "output_type": "execute_result"
    }
   ],
   "source": [
    "S12df = pd.read_csv('dfImputation.csv')\n",
    "S12df.shape,S12df.shape,S13df.shape"
   ]
  },
  {
   "cell_type": "code",
   "execution_count": 7,
   "metadata": {},
   "outputs": [
    {
     "data": {
      "text/html": [
       "<div>\n",
       "<style scoped>\n",
       "    .dataframe tbody tr th:only-of-type {\n",
       "        vertical-align: middle;\n",
       "    }\n",
       "\n",
       "    .dataframe tbody tr th {\n",
       "        vertical-align: top;\n",
       "    }\n",
       "\n",
       "    .dataframe thead th {\n",
       "        text-align: right;\n",
       "    }\n",
       "</style>\n",
       "<table border=\"1\" class=\"dataframe\">\n",
       "  <thead>\n",
       "    <tr style=\"text-align: right;\">\n",
       "      <th></th>\n",
       "      <th>0</th>\n",
       "      <th>1</th>\n",
       "      <th>2</th>\n",
       "      <th>3</th>\n",
       "      <th>4</th>\n",
       "      <th>5</th>\n",
       "      <th>6</th>\n",
       "      <th>7</th>\n",
       "    </tr>\n",
       "  </thead>\n",
       "  <tbody>\n",
       "    <tr>\n",
       "      <th>0</th>\n",
       "      <td>2004-03-21</td>\n",
       "      <td>19:06:25.229486</td>\n",
       "      <td>0</td>\n",
       "      <td>12.0</td>\n",
       "      <td>19.5964</td>\n",
       "      <td>50.54630</td>\n",
       "      <td>39.56</td>\n",
       "      <td>2.33827</td>\n",
       "    </tr>\n",
       "    <tr>\n",
       "      <th>1</th>\n",
       "      <td>2004-03-31</td>\n",
       "      <td>03:38:15.757551</td>\n",
       "      <td>1</td>\n",
       "      <td>12.0</td>\n",
       "      <td>0.0000</td>\n",
       "      <td>-3.91901</td>\n",
       "      <td>11.04</td>\n",
       "      <td>2.03397</td>\n",
       "    </tr>\n",
       "    <tr>\n",
       "      <th>2</th>\n",
       "      <td>2004-02-28</td>\n",
       "      <td>00:59:16.02785</td>\n",
       "      <td>2</td>\n",
       "      <td>12.0</td>\n",
       "      <td>0.0000</td>\n",
       "      <td>37.09330</td>\n",
       "      <td>45.08</td>\n",
       "      <td>2.69964</td>\n",
       "    </tr>\n",
       "    <tr>\n",
       "      <th>3</th>\n",
       "      <td>2004-02-28</td>\n",
       "      <td>01:03:16.33393</td>\n",
       "      <td>3</td>\n",
       "      <td>12.0</td>\n",
       "      <td>0.0000</td>\n",
       "      <td>38.46290</td>\n",
       "      <td>45.08</td>\n",
       "      <td>2.68742</td>\n",
       "    </tr>\n",
       "    <tr>\n",
       "      <th>4</th>\n",
       "      <td>2004-02-28</td>\n",
       "      <td>01:06:16.013453</td>\n",
       "      <td>4</td>\n",
       "      <td>12.0</td>\n",
       "      <td>0.0000</td>\n",
       "      <td>38.80390</td>\n",
       "      <td>45.08</td>\n",
       "      <td>2.68742</td>\n",
       "    </tr>\n",
       "  </tbody>\n",
       "</table>\n",
       "</div>"
      ],
      "text/plain": [
       "            0                1  2     3        4         5      6        7\n",
       "0  2004-03-21  19:06:25.229486  0  12.0  19.5964  50.54630  39.56  2.33827\n",
       "1  2004-03-31  03:38:15.757551  1  12.0   0.0000  -3.91901  11.04  2.03397\n",
       "2  2004-02-28   00:59:16.02785  2  12.0   0.0000  37.09330  45.08  2.69964\n",
       "3  2004-02-28   01:03:16.33393  3  12.0   0.0000  38.46290  45.08  2.68742\n",
       "4  2004-02-28  01:06:16.013453  4  12.0   0.0000  38.80390  45.08  2.68742"
      ]
     },
     "execution_count": 7,
     "metadata": {},
     "output_type": "execute_result"
    }
   ],
   "source": [
    "S12df['3'] = 12.0\n",
    "S12df.head()"
   ]
  },
  {
   "cell_type": "code",
   "execution_count": 15,
   "metadata": {},
   "outputs": [
    {
     "name": "stdout",
     "output_type": "stream",
     "text": [
      "7945\n"
     ]
    }
   ],
   "source": [
    "outliersIL = []\n",
    "outliersILValues = []\n",
    "for i, row in S11df.iterrows():\n",
    "    if row['Temperature'] >=26.2:\n",
    "        outliersIL.append(i)\n",
    "        outliersILValues.append(row['Temperature'])\n",
    "print(len(outliersIL))\n"
   ]
  },
  {
   "cell_type": "code",
   "execution_count": 16,
   "metadata": {},
   "outputs": [
    {
     "name": "stdout",
     "output_type": "stream",
     "text": [
      "(41835, 8)\n",
      "(33890, 8)\n"
     ]
    }
   ],
   "source": [
    "# Removendo outliers no Sensor\n",
    "passo3= S11df.copy()\n",
    "print(passo3.shape)\n",
    "passo3= passo3.drop(outliersIL)\n",
    "print(passo3.shape)\n",
    "passo3.to_csv('S11FINAL.csv')"
   ]
  },
  {
   "cell_type": "code",
   "execution_count": 17,
   "metadata": {},
   "outputs": [
    {
     "name": "stdout",
     "output_type": "stream",
     "text": [
      "6390\n"
     ]
    }
   ],
   "source": [
    "outliersIL2 = []\n",
    "outliersILV2 = []\n",
    "for i, row in S13df.iterrows():\n",
    "    if row['Temperature'] >=26.2:\n",
    "        outliersIL2.append(i)\n",
    "        outliersILV2.append(row['Temperature'])\n",
    "print(len(outliersIL2))\n"
   ]
  },
  {
   "cell_type": "code",
   "execution_count": 18,
   "metadata": {},
   "outputs": [
    {
     "name": "stdout",
     "output_type": "stream",
     "text": [
      "(31505, 8)\n",
      "(25115, 8)\n"
     ]
    }
   ],
   "source": [
    "# Removendo outliers no S2\n",
    "passo3_3= S13df.copy()\n",
    "print(passo3_3.shape)\n",
    "passo3_3= passo3_3.drop(outliersIL2)\n",
    "print(passo3_3.shape)\n",
    "passo3_3.to_csv('S13FINAL.csv')"
   ]
  },
  {
   "cell_type": "code",
   "execution_count": 19,
   "metadata": {},
   "outputs": [
    {
     "name": "stdout",
     "output_type": "stream",
     "text": [
      "0\n"
     ]
    }
   ],
   "source": [
    "outliersIL_3 = []\n",
    "outliersILV_3 = []\n",
    "for i, row in S12df.iterrows():\n",
    "    if row['4'] >=26.2:\n",
    "        outliersIL_3.append(i)\n",
    "        outliersILV_3.append(row['4'])\n",
    "print(len(outliersIL_3))\n"
   ]
  },
  {
   "cell_type": "code",
   "execution_count": 20,
   "metadata": {},
   "outputs": [
    {
     "name": "stdout",
     "output_type": "stream",
     "text": [
      "(65589, 8)\n",
      "(65589, 8)\n"
     ]
    }
   ],
   "source": [
    "# Removendo outliers no sensor\n",
    "passo3_2= S12df.copy()\n",
    "print(passo3_2.shape)\n",
    "passo3_2= passo3_2.drop(outliersIL_3)\n",
    "print(passo3_2.shape)\n",
    "passo3_2.to_csv('S12FINAL.csv')"
   ]
  },
  {
   "cell_type": "code",
   "execution_count": 21,
   "metadata": {},
   "outputs": [
    {
     "data": {
      "text/plain": [
       "((33890, 9), (65589, 9), (25115, 9))"
      ]
     },
     "execution_count": 21,
     "metadata": {},
     "output_type": "execute_result"
    }
   ],
   "source": [
    "S11df_ = pd.read_csv('S11FINAL.csv')\n",
    "S12df_ = pd.read_csv('S12FINAL.csv')\n",
    "S13df_ = pd.read_csv('S13FINAL.csv')\n",
    "S12df_['3'] = 12\n",
    "S11df_.shape, S12df_.shape, S13df_.shape"
   ]
  },
  {
   "cell_type": "code",
   "execution_count": 22,
   "metadata": {},
   "outputs": [
    {
     "data": {
      "text/html": [
       "<div>\n",
       "<style scoped>\n",
       "    .dataframe tbody tr th:only-of-type {\n",
       "        vertical-align: middle;\n",
       "    }\n",
       "\n",
       "    .dataframe tbody tr th {\n",
       "        vertical-align: top;\n",
       "    }\n",
       "\n",
       "    .dataframe thead th {\n",
       "        text-align: right;\n",
       "    }\n",
       "</style>\n",
       "<table border=\"1\" class=\"dataframe\">\n",
       "  <thead>\n",
       "    <tr style=\"text-align: right;\">\n",
       "      <th></th>\n",
       "      <th>Unnamed: 0</th>\n",
       "      <th>0</th>\n",
       "      <th>1</th>\n",
       "      <th>2</th>\n",
       "      <th>3</th>\n",
       "      <th>4</th>\n",
       "      <th>5</th>\n",
       "      <th>6</th>\n",
       "      <th>7</th>\n",
       "    </tr>\n",
       "  </thead>\n",
       "  <tbody>\n",
       "    <tr>\n",
       "      <th>0</th>\n",
       "      <td>0</td>\n",
       "      <td>2004-03-21</td>\n",
       "      <td>19:06:25.229486</td>\n",
       "      <td>0</td>\n",
       "      <td>12</td>\n",
       "      <td>19.5964</td>\n",
       "      <td>50.54630</td>\n",
       "      <td>39.56</td>\n",
       "      <td>2.33827</td>\n",
       "    </tr>\n",
       "    <tr>\n",
       "      <th>1</th>\n",
       "      <td>1</td>\n",
       "      <td>2004-03-31</td>\n",
       "      <td>03:38:15.757551</td>\n",
       "      <td>1</td>\n",
       "      <td>12</td>\n",
       "      <td>0.0000</td>\n",
       "      <td>-3.91901</td>\n",
       "      <td>11.04</td>\n",
       "      <td>2.03397</td>\n",
       "    </tr>\n",
       "    <tr>\n",
       "      <th>2</th>\n",
       "      <td>2</td>\n",
       "      <td>2004-02-28</td>\n",
       "      <td>00:59:16.02785</td>\n",
       "      <td>2</td>\n",
       "      <td>12</td>\n",
       "      <td>0.0000</td>\n",
       "      <td>37.09330</td>\n",
       "      <td>45.08</td>\n",
       "      <td>2.69964</td>\n",
       "    </tr>\n",
       "    <tr>\n",
       "      <th>3</th>\n",
       "      <td>3</td>\n",
       "      <td>2004-02-28</td>\n",
       "      <td>01:03:16.33393</td>\n",
       "      <td>3</td>\n",
       "      <td>12</td>\n",
       "      <td>0.0000</td>\n",
       "      <td>38.46290</td>\n",
       "      <td>45.08</td>\n",
       "      <td>2.68742</td>\n",
       "    </tr>\n",
       "    <tr>\n",
       "      <th>4</th>\n",
       "      <td>4</td>\n",
       "      <td>2004-02-28</td>\n",
       "      <td>01:06:16.013453</td>\n",
       "      <td>4</td>\n",
       "      <td>12</td>\n",
       "      <td>0.0000</td>\n",
       "      <td>38.80390</td>\n",
       "      <td>45.08</td>\n",
       "      <td>2.68742</td>\n",
       "    </tr>\n",
       "  </tbody>\n",
       "</table>\n",
       "</div>"
      ],
      "text/plain": [
       "   Unnamed: 0           0                1  2   3        4         5      6  \\\n",
       "0           0  2004-03-21  19:06:25.229486  0  12  19.5964  50.54630  39.56   \n",
       "1           1  2004-03-31  03:38:15.757551  1  12   0.0000  -3.91901  11.04   \n",
       "2           2  2004-02-28   00:59:16.02785  2  12   0.0000  37.09330  45.08   \n",
       "3           3  2004-02-28   01:03:16.33393  3  12   0.0000  38.46290  45.08   \n",
       "4           4  2004-02-28  01:06:16.013453  4  12   0.0000  38.80390  45.08   \n",
       "\n",
       "         7  \n",
       "0  2.33827  \n",
       "1  2.03397  \n",
       "2  2.69964  \n",
       "3  2.68742  \n",
       "4  2.68742  "
      ]
     },
     "execution_count": 22,
     "metadata": {},
     "output_type": "execute_result"
    }
   ],
   "source": [
    "S12df_.head()"
   ]
  },
  {
   "cell_type": "markdown",
   "metadata": {},
   "source": [
    "# Sistema Fuzzy"
   ]
  },
  {
   "cell_type": "code",
   "execution_count": 23,
   "metadata": {},
   "outputs": [],
   "source": [
    "# Modelo Fuzzy\n",
    "temp = np.arange(-26.2, 26.2, 0.1)\n",
    "tempF = np.arange(-26.2, 26.2, 0.1)\n",
    "\n",
    "# Generate fuzzy membership functions\n",
    "temp_lo = fuzz.trimf(temp, [-26.2, 0.0, 5.0])  \n",
    "temp_md = fuzz.trimf(temp, [0.0, 5.0, 20.0])      \n",
    "temp_hi = fuzz.trimf(temp, [17.20, 22.8, 26.2]) \n",
    "\n",
    "\n",
    "mfx = fuzz.trapmf(tempF, [-26.2, 5.0, 17.20, 26.2])\n",
    "\n",
    "\n",
    "tempFinal_lo = fuzz.trapmf(tempF, [-26.2, 5.0, 17.20, 26.2]) \n",
    "tempFinal_md = fuzz.trimf(tempF, [0, 5.0, 20.0]) \n",
    "tempFinal_hi = fuzz.trimf(tempF, [17.20, 22.8, 26.2])\n"
   ]
  },
  {
   "cell_type": "code",
   "execution_count": 25,
   "metadata": {},
   "outputs": [],
   "source": [
    "def fuzification(i, data, data1, data2): \n",
    "    if data['3'].ix[i]== 12:\n",
    "        temp_level_lo0 = fuzz.interp_membership(temp, temp_lo,  data1['Temperature'][i]) # ex: [52, [51, 52]]\n",
    "        temp_level_md0 = fuzz.interp_membership(temp, temp_md,  data1['Temperature'][i])\n",
    "        temp_level_hi0 = fuzz.interp_membership(temp, temp_hi,  data1['Temperature'][i])\n",
    "\n",
    "        temp_level_lo1 = fuzz.interp_membership(temp, temp_lo,  data2['Temperature'][i])\n",
    "        temp_level_md1 = fuzz.interp_membership(temp, temp_md,  data2['Temperature'][i])\n",
    "        temp_level_hi1 = fuzz.interp_membership(temp, temp_hi,  data2['Temperature'][i])\n",
    "\n",
    "        active_rule1_0 = np.fmin(temp_level_lo0, temp_level_lo1)\n",
    "        active_rule1_1 = np.fmin(temp_level_lo0, temp_level_md1)\n",
    "        active_rule1_2 = np.fmin(temp_level_lo0, temp_level_hi1)\n",
    "        active_rule1_3 = np.fmin(temp_level_md0, temp_level_lo1)\n",
    "        active_rule1_4 = np.fmin(temp_level_md0, temp_level_md1)\n",
    "        active_rule1_5 = np.fmin(temp_level_md0, temp_level_hi1)\n",
    "        active_rule1_6 = np.fmin(temp_level_hi0, temp_level_lo1)\n",
    "        active_rule1_7 = np.fmin(temp_level_hi0, temp_level_md1)\n",
    "        active_rule1_8 = np.fmin(temp_level_hi0, temp_level_hi1)\n",
    "\n",
    "\n",
    "        active_rule1_Final_0 = np.fmax(active_rule1_0, tempFinal_lo)\n",
    "        active_rule1_Final_1 = np.fmax(active_rule1_1, tempFinal_lo)\n",
    "        active_rule1_Final_2 = np.fmax(active_rule1_2, tempFinal_md)\n",
    "        active_rule1_Final_3 = np.fmax(active_rule1_3, tempFinal_lo)\n",
    "        active_rule1_Final_4 = np.fmax(active_rule1_4, tempFinal_hi)\n",
    "        active_rule1_Final_5 = np.fmax(active_rule1_5, tempFinal_hi)\n",
    "        active_rule1_Final_6 = np.fmax(active_rule1_6, tempFinal_md)\n",
    "        active_rule1_Final_7 = np.fmax(active_rule1_7, tempFinal_hi)\n",
    "        active_rule1_Final_8 = np.fmax(active_rule1_8, tempFinal_hi)\n",
    "\n",
    "        r1_0 = np.fmax(active_rule1_Final_8, np.fmax(active_rule1_Final_7, np.fmax(active_rule1_Final_6, active_rule1_Final_5) ) )  \n",
    "        r1_1 = np.fmax(active_rule1_Final_5, np.fmax(active_rule1_Final_3, np.fmax(active_rule1_Final_2, np.fmax(active_rule1_Final_1, active_rule1_Final_0)) ) )  \n",
    "        aggregated = np.fmax(r1_0,r1_1)\n",
    "        return aggregated  \n"
   ]
  },
  {
   "cell_type": "code",
   "execution_count": 26,
   "metadata": {},
   "outputs": [],
   "source": [
    "def defuzz(x, mfx, mode):\n",
    "    \"\"\"\n",
    "    Defuzzification of a membership function, returning a defuzzified value\n",
    "    of the function at x, using various defuzzification methods.\n",
    "\n",
    "    Parameters\n",
    "    ----------\n",
    "    x : 1d array or iterable, length N\n",
    "        Independent variable.\n",
    "    mfx : 1d array of iterable, length N\n",
    "        Fuzzy membership function.\n",
    "    mode : string\n",
    "        Controls which defuzzification method will be used.\n",
    "        * 'centroid': Centroid of area\n",
    "        * 'bisector': bisector of area\n",
    "        * 'mom'        : mean of maximum\n",
    "        * 'som'        : min of maximum\n",
    "        * 'lom'        : max of maximum\n",
    "\n",
    "    Returns\n",
    "    -------\n",
    "    u : float or int\n",
    "        Defuzzified result.\n",
    "\n",
    "    See also\n",
    "    --------\n",
    "    CENTROID, DCENTROID\n",
    "\n",
    "    \"\"\"\n",
    "    mode = mode.lower()\n",
    "    x = x.ravel()\n",
    "    mfx = mfx.ravel()\n",
    "    n = len(x)\n",
    "    assert n == len(mfx), 'Length of x and fuzzy membership function must be \\\n",
    "                          identical.'\n",
    "\n",
    "    if 'Centroid' in mode or 'bisector' in mode:\n",
    "        tot_area = mfx.sum()\n",
    "        assert tot_area != 0, 'Total area is zero in defuzzification!'\n",
    "\n",
    "        if 'Centroid' in mode:\n",
    "            return centroid(x, mfx)\n",
    "\n",
    "        elif 'bisector' in mode:\n",
    "            tmp = 0\n",
    "            for k in range(n):\n",
    "                tmp += mfx[k]\n",
    "                if tmp >= tot_area / 2.:\n",
    "                    return x[k]\n",
    "\n",
    "    elif 'mom' in mode:\n",
    "        return np.mean(x[mfx == mfx.max()])\n",
    "\n",
    "    elif 'som' in mode:\n",
    "        tmp = x[mfx == mfx.max()]\n",
    "        return tmp[tmp == np.abs(tmp).min()][0]\n",
    "\n",
    "    elif 'lom' in mode:\n",
    "        tmp = x[mfx == mfx.max()]\n",
    "        return tmp[tmp == np.abs(tmp).max()][0]\n",
    "\n",
    "    else:\n",
    "        raise ValueError('The input for `mode`, %s, was incorrect.' % (mode))\n",
    "\n"
   ]
  },
  {
   "cell_type": "code",
   "execution_count": 27,
   "metadata": {},
   "outputs": [
    {
     "data": {
      "text/html": [
       "<div>\n",
       "<style scoped>\n",
       "    .dataframe tbody tr th:only-of-type {\n",
       "        vertical-align: middle;\n",
       "    }\n",
       "\n",
       "    .dataframe tbody tr th {\n",
       "        vertical-align: top;\n",
       "    }\n",
       "\n",
       "    .dataframe thead th {\n",
       "        text-align: right;\n",
       "    }\n",
       "</style>\n",
       "<table border=\"1\" class=\"dataframe\">\n",
       "  <thead>\n",
       "    <tr style=\"text-align: right;\">\n",
       "      <th></th>\n",
       "      <th>Unnamed: 0</th>\n",
       "      <th>0</th>\n",
       "      <th>1</th>\n",
       "      <th>2</th>\n",
       "      <th>3</th>\n",
       "      <th>4</th>\n",
       "      <th>5</th>\n",
       "      <th>6</th>\n",
       "      <th>7</th>\n",
       "    </tr>\n",
       "  </thead>\n",
       "  <tbody>\n",
       "    <tr>\n",
       "      <th>65584</th>\n",
       "      <td>65584</td>\n",
       "      <td>2004-02-29</td>\n",
       "      <td>20:18:50.889032</td>\n",
       "      <td>65531</td>\n",
       "      <td>12</td>\n",
       "      <td>17.1</td>\n",
       "      <td>42.6516</td>\n",
       "      <td>128.8</td>\n",
       "      <td>2.65143</td>\n",
       "    </tr>\n",
       "    <tr>\n",
       "      <th>65585</th>\n",
       "      <td>65585</td>\n",
       "      <td>2004-02-29</td>\n",
       "      <td>20:19:27.517518</td>\n",
       "      <td>65532</td>\n",
       "      <td>12</td>\n",
       "      <td>17.1</td>\n",
       "      <td>42.6516</td>\n",
       "      <td>128.8</td>\n",
       "      <td>2.65143</td>\n",
       "    </tr>\n",
       "    <tr>\n",
       "      <th>65586</th>\n",
       "      <td>65586</td>\n",
       "      <td>2004-02-29</td>\n",
       "      <td>20:20:53.74566</td>\n",
       "      <td>65533</td>\n",
       "      <td>12</td>\n",
       "      <td>17.1</td>\n",
       "      <td>42.7185</td>\n",
       "      <td>128.8</td>\n",
       "      <td>2.65143</td>\n",
       "    </tr>\n",
       "    <tr>\n",
       "      <th>65587</th>\n",
       "      <td>65587</td>\n",
       "      <td>2004-02-29</td>\n",
       "      <td>20:21:24.641306</td>\n",
       "      <td>65534</td>\n",
       "      <td>12</td>\n",
       "      <td>17.1</td>\n",
       "      <td>42.6182</td>\n",
       "      <td>128.8</td>\n",
       "      <td>2.65143</td>\n",
       "    </tr>\n",
       "    <tr>\n",
       "      <th>65588</th>\n",
       "      <td>65588</td>\n",
       "      <td>2004-02-29</td>\n",
       "      <td>20:21:53.337697</td>\n",
       "      <td>65535</td>\n",
       "      <td>12</td>\n",
       "      <td>17.1</td>\n",
       "      <td>42.5847</td>\n",
       "      <td>128.8</td>\n",
       "      <td>2.65143</td>\n",
       "    </tr>\n",
       "  </tbody>\n",
       "</table>\n",
       "</div>"
      ],
      "text/plain": [
       "       Unnamed: 0           0                1      2   3     4        5  \\\n",
       "65584       65584  2004-02-29  20:18:50.889032  65531  12  17.1  42.6516   \n",
       "65585       65585  2004-02-29  20:19:27.517518  65532  12  17.1  42.6516   \n",
       "65586       65586  2004-02-29   20:20:53.74566  65533  12  17.1  42.7185   \n",
       "65587       65587  2004-02-29  20:21:24.641306  65534  12  17.1  42.6182   \n",
       "65588       65588  2004-02-29  20:21:53.337697  65535  12  17.1  42.5847   \n",
       "\n",
       "           6        7  \n",
       "65584  128.8  2.65143  \n",
       "65585  128.8  2.65143  \n",
       "65586  128.8  2.65143  \n",
       "65587  128.8  2.65143  \n",
       "65588  128.8  2.65143  "
      ]
     },
     "execution_count": 27,
     "metadata": {},
     "output_type": "execute_result"
    }
   ],
   "source": [
    "aux = 0.0\n",
    "for i, row in S12df_.iterrows():\n",
    "        if S12df_['4'][i] == 0.0:            \n",
    "            try:\n",
    "                S12df_.at[i, '4'] = defuzz(tempF,fuzification(i, S12df_, S11df_, S13df_ ), 'lom')\n",
    "                aux = defuzz(tempF,fuzification(i, S12df_, S11df_, S13df_ ), 'lom')\n",
    "            except:\n",
    "                S12df_.at[i, '4'] = aux\n",
    "                \n",
    "S12df_.tail()"
   ]
  },
  {
   "cell_type": "code",
   "execution_count": 28,
   "metadata": {},
   "outputs": [
    {
     "name": "stdout",
     "output_type": "stream",
     "text": [
      "(65589, 9)\n"
     ]
    }
   ],
   "source": [
    "print(S12df_.shape)\n",
    "S12df_.to_csv('finalsensor.csv', index=False)\n"
   ]
  },
  {
   "cell_type": "markdown",
   "metadata": {},
   "source": [
    "# Final"
   ]
  }
 ],
 "metadata": {
  "kernelspec": {
   "display_name": "Python 3",
   "language": "python",
   "name": "python3"
  },
  "language_info": {
   "codemirror_mode": {
    "name": "ipython",
    "version": 3
   },
   "file_extension": ".py",
   "mimetype": "text/x-python",
   "name": "python",
   "nbconvert_exporter": "python",
   "pygments_lexer": "ipython3",
   "version": "3.6.5"
  }
 },
 "nbformat": 4,
 "nbformat_minor": 2
}
