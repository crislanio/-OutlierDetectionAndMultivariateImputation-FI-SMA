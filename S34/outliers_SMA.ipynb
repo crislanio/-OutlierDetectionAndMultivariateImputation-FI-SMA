{
 "cells": [
  {
   "cell_type": "code",
   "execution_count": 1,
   "metadata": {},
   "outputs": [],
   "source": [
    "import pandas as pd\n",
    "import numpy as np\n",
    "from pandas import Series as sr, DataFrame as df\n",
    "import matplotlib.pyplot as plt\n",
    "import seaborn as sns\n",
    "#style.use('seaborn')\n",
    "%matplotlib inline"
   ]
  },
  {
   "cell_type": "code",
   "execution_count": 2,
   "metadata": {},
   "outputs": [
    {
     "data": {
      "text/html": [
       "<div>\n",
       "<style scoped>\n",
       "    .dataframe tbody tr th:only-of-type {\n",
       "        vertical-align: middle;\n",
       "    }\n",
       "\n",
       "    .dataframe tbody tr th {\n",
       "        vertical-align: top;\n",
       "    }\n",
       "\n",
       "    .dataframe thead th {\n",
       "        text-align: right;\n",
       "    }\n",
       "</style>\n",
       "<table border=\"1\" class=\"dataframe\">\n",
       "  <thead>\n",
       "    <tr style=\"text-align: right;\">\n",
       "      <th></th>\n",
       "      <th>0</th>\n",
       "      <th>1</th>\n",
       "      <th>2</th>\n",
       "      <th>3</th>\n",
       "      <th>4</th>\n",
       "      <th>5</th>\n",
       "      <th>6</th>\n",
       "      <th>7</th>\n",
       "    </tr>\n",
       "  </thead>\n",
       "  <tbody>\n",
       "    <tr>\n",
       "      <th>0</th>\n",
       "      <td>2004-03-31</td>\n",
       "      <td>03:38:15.757551</td>\n",
       "      <td>2</td>\n",
       "      <td>1.0</td>\n",
       "      <td>122.1530</td>\n",
       "      <td>-3.91901</td>\n",
       "      <td>11.04</td>\n",
       "      <td>2.03397</td>\n",
       "    </tr>\n",
       "    <tr>\n",
       "      <th>1</th>\n",
       "      <td>2004-02-28</td>\n",
       "      <td>00:59:16.02785</td>\n",
       "      <td>3</td>\n",
       "      <td>1.0</td>\n",
       "      <td>19.9884</td>\n",
       "      <td>37.09330</td>\n",
       "      <td>45.08</td>\n",
       "      <td>2.69964</td>\n",
       "    </tr>\n",
       "    <tr>\n",
       "      <th>2</th>\n",
       "      <td>2004-02-28</td>\n",
       "      <td>01:03:16.33393</td>\n",
       "      <td>11</td>\n",
       "      <td>1.0</td>\n",
       "      <td>19.3024</td>\n",
       "      <td>38.46290</td>\n",
       "      <td>45.08</td>\n",
       "      <td>2.68742</td>\n",
       "    </tr>\n",
       "    <tr>\n",
       "      <th>3</th>\n",
       "      <td>2004-02-28</td>\n",
       "      <td>01:06:16.013453</td>\n",
       "      <td>17</td>\n",
       "      <td>1.0</td>\n",
       "      <td>19.1652</td>\n",
       "      <td>38.80390</td>\n",
       "      <td>45.08</td>\n",
       "      <td>2.68742</td>\n",
       "    </tr>\n",
       "    <tr>\n",
       "      <th>4</th>\n",
       "      <td>2004-02-28</td>\n",
       "      <td>01:06:46.778088</td>\n",
       "      <td>18</td>\n",
       "      <td>1.0</td>\n",
       "      <td>19.1750</td>\n",
       "      <td>38.83790</td>\n",
       "      <td>45.08</td>\n",
       "      <td>2.69964</td>\n",
       "    </tr>\n",
       "  </tbody>\n",
       "</table>\n",
       "</div>"
      ],
      "text/plain": [
       "            0                1   2    3         4         5      6        7\n",
       "0  2004-03-31  03:38:15.757551   2  1.0  122.1530  -3.91901  11.04  2.03397\n",
       "1  2004-02-28   00:59:16.02785   3  1.0   19.9884  37.09330  45.08  2.69964\n",
       "2  2004-02-28   01:03:16.33393  11  1.0   19.3024  38.46290  45.08  2.68742\n",
       "3  2004-02-28  01:06:16.013453  17  1.0   19.1652  38.80390  45.08  2.68742\n",
       "4  2004-02-28  01:06:46.778088  18  1.0   19.1750  38.83790  45.08  2.69964"
      ]
     },
     "execution_count": 2,
     "metadata": {},
     "output_type": "execute_result"
    }
   ],
   "source": [
    "data = pd.read_csv(\"../data.txt\", sep = ' ', header = None)\n",
    "data.head()"
   ]
  },
  {
   "cell_type": "code",
   "execution_count": 3,
   "metadata": {},
   "outputs": [
    {
     "data": {
      "text/plain": [
       "(2313682, 8)"
      ]
     },
     "execution_count": 3,
     "metadata": {},
     "output_type": "execute_result"
    }
   ],
   "source": [
    "data_column_names = [\"Date\", \"Time\", \"Epoch\", \"Moteid\", \"Temperature\", \"Humidity\", \"Light\", \"Voltage\"]\n",
    "dplot = pd.read_csv(\"../data.txt\", sep = ' ', names = data_column_names)\n",
    "dplot.shape"
   ]
  },
  {
   "cell_type": "code",
   "execution_count": 4,
   "metadata": {},
   "outputs": [
    {
     "data": {
      "text/html": [
       "<div>\n",
       "<style scoped>\n",
       "    .dataframe tbody tr th:only-of-type {\n",
       "        vertical-align: middle;\n",
       "    }\n",
       "\n",
       "    .dataframe tbody tr th {\n",
       "        vertical-align: top;\n",
       "    }\n",
       "\n",
       "    .dataframe thead th {\n",
       "        text-align: right;\n",
       "    }\n",
       "</style>\n",
       "<table border=\"1\" class=\"dataframe\">\n",
       "  <thead>\n",
       "    <tr style=\"text-align: right;\">\n",
       "      <th></th>\n",
       "      <th>0</th>\n",
       "      <th>1</th>\n",
       "      <th>2</th>\n",
       "      <th>3</th>\n",
       "      <th>4</th>\n",
       "      <th>5</th>\n",
       "      <th>6</th>\n",
       "      <th>7</th>\n",
       "    </tr>\n",
       "  </thead>\n",
       "  <tbody>\n",
       "    <tr>\n",
       "      <th>1375148</th>\n",
       "      <td>2004-02-28</td>\n",
       "      <td>00:58:47.044836</td>\n",
       "      <td>2</td>\n",
       "      <td>34.0</td>\n",
       "      <td>19.4298</td>\n",
       "      <td>39.0763</td>\n",
       "      <td>60.72</td>\n",
       "      <td>2.68742</td>\n",
       "    </tr>\n",
       "    <tr>\n",
       "      <th>1375149</th>\n",
       "      <td>2004-02-28</td>\n",
       "      <td>01:00:46.152417</td>\n",
       "      <td>6</td>\n",
       "      <td>34.0</td>\n",
       "      <td>18.8712</td>\n",
       "      <td>40.2976</td>\n",
       "      <td>60.72</td>\n",
       "      <td>2.67532</td>\n",
       "    </tr>\n",
       "    <tr>\n",
       "      <th>1375150</th>\n",
       "      <td>2004-02-28</td>\n",
       "      <td>01:01:46.910259</td>\n",
       "      <td>8</td>\n",
       "      <td>34.0</td>\n",
       "      <td>18.7144</td>\n",
       "      <td>40.7706</td>\n",
       "      <td>60.72</td>\n",
       "      <td>2.67532</td>\n",
       "    </tr>\n",
       "    <tr>\n",
       "      <th>1375151</th>\n",
       "      <td>2004-02-28</td>\n",
       "      <td>01:03:16.886569</td>\n",
       "      <td>11</td>\n",
       "      <td>34.0</td>\n",
       "      <td>18.5576</td>\n",
       "      <td>41.1078</td>\n",
       "      <td>60.72</td>\n",
       "      <td>2.67532</td>\n",
       "    </tr>\n",
       "    <tr>\n",
       "      <th>1375152</th>\n",
       "      <td>2004-02-28</td>\n",
       "      <td>01:04:46.859249</td>\n",
       "      <td>14</td>\n",
       "      <td>34.0</td>\n",
       "      <td>18.4694</td>\n",
       "      <td>41.3435</td>\n",
       "      <td>60.72</td>\n",
       "      <td>2.67532</td>\n",
       "    </tr>\n",
       "  </tbody>\n",
       "</table>\n",
       "</div>"
      ],
      "text/plain": [
       "                  0                1   2     3        4        5      6  \\\n",
       "1375148  2004-02-28  00:58:47.044836   2  34.0  19.4298  39.0763  60.72   \n",
       "1375149  2004-02-28  01:00:46.152417   6  34.0  18.8712  40.2976  60.72   \n",
       "1375150  2004-02-28  01:01:46.910259   8  34.0  18.7144  40.7706  60.72   \n",
       "1375151  2004-02-28  01:03:16.886569  11  34.0  18.5576  41.1078  60.72   \n",
       "1375152  2004-02-28  01:04:46.859249  14  34.0  18.4694  41.3435  60.72   \n",
       "\n",
       "               7  \n",
       "1375148  2.68742  \n",
       "1375149  2.67532  \n",
       "1375150  2.67532  \n",
       "1375151  2.67532  \n",
       "1375152  2.67532  "
      ]
     },
     "execution_count": 4,
     "metadata": {},
     "output_type": "execute_result"
    }
   ],
   "source": [
    "s = 34.0\n",
    "data = data[data[3]==s]\n",
    "data.head()"
   ]
  },
  {
   "cell_type": "code",
   "execution_count": 5,
   "metadata": {},
   "outputs": [
    {
     "name": "stdout",
     "output_type": "stream",
     "text": [
      "(48786, 8) 18059\n",
      "                  0                1   2     3        4        5      6  \\\n",
      "1375148  2004-02-28  00:58:47.044836   2  34.0  19.4298  39.0763  60.72   \n",
      "1375149  2004-02-28  01:00:46.152417   6  34.0  18.8712  40.2976  60.72   \n",
      "1375150  2004-02-28  01:01:46.910259   8  34.0  18.7144  40.7706  60.72   \n",
      "1375151  2004-02-28  01:03:16.886569  11  34.0  18.5576  41.1078  60.72   \n",
      "1375152  2004-02-28  01:04:46.859249  14  34.0  18.4694  41.3435  60.72   \n",
      "\n",
      "               7  \n",
      "1375148  2.68742  \n",
      "1375149  2.67532  \n",
      "1375150  2.67532  \n",
      "1375151  2.67532  \n",
      "1375152  2.67532  \n",
      "(48786, 8)\n",
      "(30727, 8)\n",
      "34.0 \n",
      "             0                1   2     3        4        5      6        7\n",
      "0  2004-02-28  00:58:47.044836   2  34.0  19.4298  39.0763  60.72  2.68742\n",
      "1  2004-02-28  01:00:46.152417   6  34.0  18.8712  40.2976  60.72  2.67532\n",
      "2  2004-02-28  01:01:46.910259   8  34.0  18.7144  40.7706  60.72  2.67532\n",
      "3  2004-02-28  01:03:16.886569  11  34.0  18.5576  41.1078  60.72  2.67532\n",
      "4  2004-02-28  01:04:46.859249  14  34.0  18.4694  41.3435  60.72  2.67532\n",
      "--------------------------------\n"
     ]
    }
   ],
   "source": [
    "# print(S1df.shape)\n",
    "outliersILista = []\n",
    "outliersIListaV = []\n",
    "for i, row in data.iterrows():\n",
    "    if row[4] >=26.2 :\n",
    "        outliersILista.append(i)\n",
    "        outliersIListaV.append(row[4])\n",
    "print(data.shape, len(outliersILista))\n",
    "# Removendo outliers no sensor\n",
    "passo3= data.copy()\n",
    "print(passo3.head())\n",
    "print(passo3.shape)\n",
    "passo3= passo3.drop(outliersILista)\n",
    "print(passo3.shape)\n",
    "passo3.to_csv('sensor.csv')\n",
    "data = pd.read_csv(\"sensor.csv\")\n",
    "data.shape\n",
    "data.drop(['Unnamed: 0'], axis=1,inplace=True)\n",
    "# data.head(1)\n",
    "for key,d in data[:data.shape[0]].groupby('3'):\n",
    "    print(key,\"\\n\",d.head())\n",
    "    print(\"--------------------------------\")"
   ]
  },
  {
   "cell_type": "code",
   "execution_count": 6,
   "metadata": {},
   "outputs": [
    {
     "data": {
      "text/plain": [
       "((30727, 8),\n",
       "                 0                1      2     3     4        5        6  \\\n",
       " 28784  2004-04-01  23:47:50.124306  61302  34.0   NaN      NaN      NaN   \n",
       " 28790  2004-04-01  23:51:49.336915  61310  34.0   NaN      NaN      NaN   \n",
       " 28800  2004-04-03  03:12:54.471277  61327  34.0 -38.4  31.5959      NaN   \n",
       " 28803  2004-04-03   07:48:44.91692  61329  34.0 -38.4  29.6850  1847.36   \n",
       " 28807  2004-04-03  16:51:34.171452  61333  34.0 -38.4  38.6334      NaN   \n",
       " \n",
       "              7  \n",
       " 28784  2.12114  \n",
       " 28790  2.12114  \n",
       " 28800  1.86767  \n",
       " 28803  1.85600  \n",
       " 28807  1.90971  )"
      ]
     },
     "execution_count": 6,
     "metadata": {},
     "output_type": "execute_result"
    }
   ],
   "source": [
    "for key, d in data[:data.shape[0]].groupby('3'):\n",
    "    break\n",
    "    d.head()\n",
    "\n",
    "d = d.sort_values(['0','1'],ascending = [1,1])\n",
    "d.shape, (d.tail())"
   ]
  },
  {
   "cell_type": "code",
   "execution_count": 7,
   "metadata": {
    "scrolled": true
   },
   "outputs": [
    {
     "data": {
      "image/png": "[encoded data removed]",
      "text/plain": [
       "<Figure size 1080x576 with 1 Axes>"
      ]
     },
     "metadata": {},
     "output_type": "display_data"
    }
   ],
   "source": [
    "from itertools import count\n",
    "import matplotlib.pyplot as plt\n",
    "from numpy import linspace, loadtxt, ones, convolve\n",
    "import numpy as np\n",
    "import pandas as pd\n",
    "import collections\n",
    "from random import randint\n",
    "from matplotlib import style\n",
    "%matplotlib inline\n",
    "def moving_average(data, window_size):\n",
    "\n",
    "    window = np.ones(int(window_size))/float(window_size)\n",
    "    return np.convolve(data, window, 'same')\n",
    "\n",
    "\n",
    "def explain_anomalies(y, window_size, sigma=1.0):\n",
    "\n",
    "    avg = moving_average(y, window_size).tolist()\n",
    "    residual = y - avg\n",
    "    # Calculate the variation in the distribution of the residual\n",
    "    std = np.std(residual)\n",
    "    return {'standard_deviation': round(std, 2),\n",
    "            'anomalies_dict': collections.OrderedDict([(index, y_i) for\n",
    "                                                       index, y_i, avg_i in zip(count(), y, avg)\n",
    "              if (y_i > avg_i + (sigma*std)) | (y_i < avg_i - (sigma*std))])}\n",
    "\n",
    "# This function is repsonsible for displaying how the function performs on the given dataset.\n",
    "def plot_results(x, y, window_size, sigma_value=1,\n",
    "                 text_xlabel=\"X Axis\", text_ylabel=\"Y Axis\", applying_rolling_std=False):\n",
    "\n",
    "    plt.figure(figsize=(15, 8))\n",
    "    plt.plot(x, y, \"k.\")\n",
    "    y_av = moving_average(y, window_size)\n",
    "    plt.plot(x, y_av, color='gray')\n",
    "    plt.xlim(0, 30000)\n",
    "    plt.xlabel(text_xlabel)\n",
    "    plt.ylabel(text_ylabel)\n",
    "\n",
    "    # Query for the anomalies and plot the same\n",
    "    events = {}\n",
    "    \n",
    "    events = explain_anomalies(y, window_size=window_size, sigma=sigma_value)\n",
    "\n",
    "    x_anomaly = np.fromiter(events['anomalies_dict'].keys(), dtype=int, count=len(events['anomalies_dict']))\n",
    "    y_anomaly = np.fromiter(events['anomalies_dict'].values(), dtype=float,\n",
    "                                            count=len(events['anomalies_dict']))\n",
    "    plt.plot(x_anomaly, y_anomaly, \"r*\")\n",
    "    #print(x_anomaly)\n",
    "\n",
    "    # add grid and lines and enable the plot\n",
    "    plt.grid(True)\n",
    "    plt.show()\n",
    "\n",
    "# This function is repsonsible for displaying how the function performs on the given dataset.\n",
    "def plot_results2(x, y, window_size, sigma_value=1,\n",
    "                 text_xlabel=\"X Axis\", text_ylabel=\"Y Axis\", applying_rolling_std=False):\n",
    "\n",
    "    plt.figure(figsize=(15, 8))\n",
    "    plt.plot(x, y, \"k.\")\n",
    "    y_av = moving_average(y, window_size)\n",
    "    plt.plot(x, y_av, color='gray')\n",
    "    plt.xlim(0, 30000)\n",
    "    plt.xlabel(text_xlabel)\n",
    "    plt.ylabel(text_ylabel)\n",
    "\n",
    "    # Query for the anomalies and plot the same\n",
    "    events = {}\n",
    "    if applying_rolling_std:\n",
    "        events = explain_anomalies_rolling_std(y, window_size=window_size, sigma=sigma_value)\n",
    "    else:\n",
    "        events = explain_anomalies(y, window_size=window_size, sigma=sigma_value)\n",
    "\n",
    "    x_anomaly = np.fromiter(events['anomalies_dict'].keys(), dtype=int, count=len(events['anomalies_dict']))\n",
    "    y_anomaly = np.fromiter(events['anomalies_dict'].values(), dtype=float,\n",
    "                                            count=len(events['anomalies_dict']))\n",
    "#     plt.plot(x_anomaly, y_anomaly, )\n",
    "    #print(x_anomaly)\n",
    "\n",
    "    # add grid and lines and enable the plot\n",
    "    plt.grid(True)\n",
    "    plt.show()\n",
    "\n",
    "\n",
    "# 4. Lets play with the functions\n",
    "x = data[:data.shape[0]]['2']\n",
    "Y = data[:data.shape[0]]['4']\n",
    "\n",
    "# plot the results\n",
    "plot_results(x, y=Y, window_size=10, text_xlabel=\"Date\", sigma_value=2,text_ylabel=\"Temperature\")\n",
    "\n"
   ]
  },
  {
   "cell_type": "code",
   "execution_count": 8,
   "metadata": {},
   "outputs": [
    {
     "data": {
      "image/png": "[encoded data removed]",
      "text/plain": [
       "<Figure size 1080x576 with 1 Axes>"
      ]
     },
     "metadata": {},
     "output_type": "display_data"
    }
   ],
   "source": [
    "x = d[:d.shape[0]]['2']\n",
    "Y = d[:d.shape[0]]['4']\n",
    "\n",
    "plot_results2(x, y=Y, window_size=10, text_xlabel=\"Date\", sigma_value=2,text_ylabel=\"Temperature\")"
   ]
  },
  {
   "cell_type": "code",
   "execution_count": 9,
   "metadata": {},
   "outputs": [
    {
     "name": "stdout",
     "output_type": "stream",
     "text": [
      "372\n"
     ]
    },
    {
     "data": {
      "text/plain": [
       "array([    0,     1,     2,     3,     4,   231,   240,   283,   284,\n",
       "         285,   318,  1366,  1367,  2577,  2578,  2579,  2580,  2581,\n",
       "        2582,  2583,  2584,  2586,  2587,  2722,  2724,  2725,  2860,\n",
       "        3121,  3122,  3124,  3125,  3126,  3127,  3735,  3736,  3737,\n",
       "        3738,  3739,  3740,  3741,  3742,  3743,  3744,  3802,  3803,\n",
       "        3804,  3805,  3806,  3808,  3809,  3810,  3812,  3813,  3818,\n",
       "        4156,  4163,  4165,  4194,  4201,  4202,  4204,  4208,  4209,\n",
       "        4210,  4211,  4218,  4222,  4223,  4224,  4229,  4230,  4231,\n",
       "        4232,  4233,  4234,  4235,  4236,  4237,  4238,  4239,  4240,\n",
       "        4241,  4242,  4243,  4244,  4245,  4246,  4248,  4249,  4250,\n",
       "        4251,  4252,  4254,  5003,  5004,  5005,  5007,  5008,  5009,\n",
       "        5010,  5011,  5020,  5075,  5081,  5089,  5090,  5091,  5737,\n",
       "        5738,  5739,  5741,  5742,  5743,  5744,  6445,  6446,  6447,\n",
       "        6449,  6450,  6451,  6452,  6453,  6457,  6458,  6505,  6509,\n",
       "        6514,  6515,  6516,  6517,  6681,  6695,  6696,  6718,  6721,\n",
       "        6734,  6737,  6740,  7059,  7060,  7061,  7063,  7064,  7065,\n",
       "        7427,  7428,  7429,  7430,  7431,  7432,  7433,  7434,  7435,\n",
       "        7436,  7439,  7440,  7441,  7442,  7450,  7453,  7454,  7455,\n",
       "        7462,  7463,  8090,  8091,  8095,  8096, 11695, 11696, 11697,\n",
       "       11698, 11699, 11700, 11701, 11702, 11972, 12251, 12252, 12286,\n",
       "       12303, 12505, 12506, 12508, 12509, 12510, 12512, 12518, 12519,\n",
       "       13382, 13383, 13385, 13386, 13387, 13388, 13389, 13772, 13801,\n",
       "       13802, 13813, 13819, 13840, 13851, 13852, 13853, 13854, 13855,\n",
       "       13856, 13857, 13858, 13860, 13861, 13862, 14143, 14144, 14145,\n",
       "       14148, 14149, 14152, 14153, 14154, 14928, 14929, 14930, 14931,\n",
       "       14932, 14933, 14934, 15061, 15062, 15063, 15443, 15936, 15942,\n",
       "       15944, 15945, 17144, 20112, 20113, 20114, 20116, 20117, 20118,\n",
       "       20119, 20131, 20536, 20537, 21146, 21147, 21149, 21150, 21151,\n",
       "       21152, 21513, 21760, 21770, 21771, 21772, 21773, 21774, 21775,\n",
       "       21776, 21777, 21778, 21779, 21780, 21781, 21963, 21976, 22298,\n",
       "       22303, 22304, 22305, 23251, 23252, 23525, 23815, 24067, 24068,\n",
       "       24071, 24072, 25183, 25184, 25185, 25187, 25188, 25189, 25279,\n",
       "       25283, 25284, 25285, 25340, 25353, 25440, 25584, 25585, 25586,\n",
       "       27369, 27373, 27374, 27375, 28381, 28443, 28456, 28482, 28498,\n",
       "       29516, 29522, 29544, 29552, 29562, 29587, 29590, 29598, 29624,\n",
       "       29635, 29639, 29645, 29653, 29660, 29677, 29690, 29744, 29757,\n",
       "       29764, 29770, 29792, 29806, 29810, 29817, 29956, 29958, 29959,\n",
       "       29960, 29961, 29964, 29966, 29967, 29968, 29970, 29972, 29973,\n",
       "       29974, 29975, 29995, 30003, 30088, 30099, 30118, 30148, 30188,\n",
       "       30192, 30291, 30293, 30299, 30315, 30318, 30320, 30321, 30322,\n",
       "       30324, 30325, 30332, 30520, 30523, 30538, 30539, 30541, 30542,\n",
       "       30559, 30583, 30698])"
      ]
     },
     "execution_count": 9,
     "metadata": {},
     "output_type": "execute_result"
    }
   ],
   "source": [
    "def final_results(x, y, window_size, sigma_value=1,\n",
    "                 text_xlabel=\"X Axis\", text_ylabel=\"Y Axis\", applying_rolling_std=False):\n",
    "    y_av = moving_average(y, window_size)\n",
    "\n",
    "    events = {}\n",
    "    events = explain_anomalies(y, window_size=window_size, sigma=sigma_value)\n",
    "\n",
    "    \n",
    "    x_anomaly = np.fromiter(events['anomalies_dict'].keys(), dtype=int, count=len(events['anomalies_dict']))\n",
    "    y_anomaly = np.fromiter(events['anomalies_dict'].values(), dtype=float,\n",
    "                                            count=len(events['anomalies_dict']))\n",
    "    print(len(x_anomaly))\n",
    "    return x_anomaly\n",
    "\n",
    "x = d[:d.shape[0]]['2']\n",
    "Y = d[:d.shape[0]]['4']\n",
    "\n",
    "outliersIndices = final_results(x, y=Y, window_size=10, text_xlabel=\"2\", sigma_value=2,text_ylabel=\"4\")\n",
    "outliersIndices"
   ]
  },
  {
   "cell_type": "code",
   "execution_count": 10,
   "metadata": {},
   "outputs": [
    {
     "name": "stdout",
     "output_type": "stream",
     "text": [
      "(30727, 8)\n",
      "(30355, 8)\n",
      "372\n"
     ]
    },
    {
     "data": {
      "image/png": "[encoded data removed]",
      "text/plain": [
       "<Figure size 1080x576 with 1 Axes>"
      ]
     },
     "metadata": {},
     "output_type": "display_data"
    }
   ],
   "source": [
    "## Checando e removendo outliers no step 3.\n",
    "passoO= d[:d.shape[0]].copy()\n",
    "print(passoO.shape)\n",
    "passoO= passoO.drop(passoO.index[outliersIndices])\n",
    "print(passoO.shape)\n",
    "def plot_resultsFinal(x, y, window_size, sigma_value=1,\n",
    "                 text_xlabel=\"X Axis\", text_ylabel=\"Y Axis\", applying_rolling_std=False):\n",
    "   \n",
    "    plt.figure(figsize=(15, 8))\n",
    "    plt.plot(x, y, \"k.\")\n",
    "    y_av = moving_average(y, window_size)\n",
    "    plt.plot(x, y_av, color='green')\n",
    "    plt.xlim(0, 30000)\n",
    "    plt.xlabel(text_xlabel)\n",
    "    plt.ylabel(text_ylabel)\n",
    "\n",
    "    # Query for the anomalies and plot the same\n",
    "    events = {}\n",
    "    events = explain_anomalies(y, window_size=window_size, sigma=sigma_value)\n",
    "\n",
    "    \n",
    "    \n",
    "    x_anomaly = np.fromiter(events['anomalies_dict'].keys(), dtype=int, count=len(events['anomalies_dict']))\n",
    "    y_anomaly = np.fromiter(events['anomalies_dict'].values(), dtype=float,\n",
    "                                            count=len(events['anomalies_dict']))\n",
    "#     plt.plot(x_anomaly, y_anomaly, \"r*\")\n",
    "# #     print(len(x_anomaly), x_anomaly)\n",
    "    print(len(x_anomaly))\n",
    "\n",
    "    \n",
    "    # add grid and lines and enable the plot\n",
    "    plt.grid(True)\n",
    "    plt.show()  \n",
    "def plot_resultsAOR(x, y, window_size, sigma_value=1,\n",
    "                 text_xlabel=\"X Axis\", text_ylabel=\"Y Axis\", applying_rolling_std=False):\n",
    "   \n",
    "    plt.figure(figsize=(15, 8))\n",
    "    plt.plot(x, y, \"k.\")\n",
    "    y_av = moving_average(y, window_size)\n",
    "    plt.plot(x, y_av, color='green')\n",
    "    plt.xlim(0, 30000)\n",
    "    plt.xlabel(text_xlabel)\n",
    "    plt.ylabel(text_ylabel)\n",
    "\n",
    "    # Query for the anomalies and plot the same\n",
    "    events = {}\n",
    "    events = explain_anomalies(y, window_size=window_size, sigma=sigma_value)\n",
    "\n",
    "    \n",
    "    \n",
    "    x_anomaly = np.fromiter(events['anomalies_dict'].keys(), dtype=int, count=len(events['anomalies_dict']))\n",
    "    y_anomaly = np.fromiter(events['anomalies_dict'].values(), dtype=float,\n",
    "                                            count=len(events['anomalies_dict']))\n",
    "#     plt.plot(x_anomaly, y_anomaly, \"r*\")\n",
    "# #     print(len(x_anomaly), x_anomaly)\n",
    "    print(len(x_anomaly))\n",
    "\n",
    "    \n",
    "    # add grid and lines and enable the plot\n",
    "    plt.grid(True)\n",
    "    plt.show()   \n",
    "# Step 3 COmplete Antes de remover outliers\n",
    "\n",
    "xF = d[:d.shape[0]]['2']\n",
    "YF = d[:d.shape[0]]['4']\n",
    "\n",
    "# plot residual\n",
    "plot_resultsAOR(xF, y=YF, window_size=10, text_xlabel=\"Date\", sigma_value=2,text_ylabel=\"Temperature\")"
   ]
  },
  {
   "cell_type": "markdown",
   "metadata": {},
   "source": [
    "# Depois de ter os dados reconstruídos - verificamos a série temporal"
   ]
  },
  {
   "cell_type": "code",
   "execution_count": 21,
   "metadata": {},
   "outputs": [
    {
     "name": "stdout",
     "output_type": "stream",
     "text": [
      "3543\n"
     ]
    },
    {
     "data": {
      "image/png": "[encoded data removed]",
      "text/plain": [
       "<Figure size 1080x576 with 1 Axes>"
      ]
     },
     "metadata": {},
     "output_type": "display_data"
    }
   ],
   "source": [
    "# Final reconstrução - passo 3 # Executar depois de gerar o dataframe teste no scrip do sensor\n",
    "xF = teste['2']\n",
    "YF = teste['4']\n",
    "\n",
    "plot_resultsFinal(xF, y=YF, window_size=10, text_xlabel=\"Date\", sigma_value=2,text_ylabel=\"Temperature\")\n"
   ]
  },
  {
   "cell_type": "markdown",
   "metadata": {},
   "source": [
    "# Estatísticas Simples"
   ]
  },
  {
   "cell_type": "code",
   "execution_count": 11,
   "metadata": {},
   "outputs": [
    {
     "data": {
      "text/html": [
       "<div>\n",
       "<style scoped>\n",
       "    .dataframe tbody tr th:only-of-type {\n",
       "        vertical-align: middle;\n",
       "    }\n",
       "\n",
       "    .dataframe tbody tr th {\n",
       "        vertical-align: top;\n",
       "    }\n",
       "\n",
       "    .dataframe thead th {\n",
       "        text-align: right;\n",
       "    }\n",
       "</style>\n",
       "<table border=\"1\" class=\"dataframe\">\n",
       "  <thead>\n",
       "    <tr style=\"text-align: right;\">\n",
       "      <th></th>\n",
       "      <th>Data type</th>\n",
       "      <th>size</th>\n",
       "      <th>mean</th>\n",
       "      <th>SD</th>\n",
       "      <th>median</th>\n",
       "      <th>MAD</th>\n",
       "    </tr>\n",
       "  </thead>\n",
       "  <tbody>\n",
       "    <tr>\n",
       "      <th>0</th>\n",
       "      <td>Raw Data</td>\n",
       "      <td>48786</td>\n",
       "      <td>50.525772</td>\n",
       "      <td>44.693619</td>\n",
       "      <td>22.948</td>\n",
       "      <td>40.175438</td>\n",
       "    </tr>\n",
       "  </tbody>\n",
       "</table>\n",
       "</div>"
      ],
      "text/plain": [
       "  Data type   size       mean         SD  median        MAD\n",
       "0  Raw Data  48786  50.525772  44.693619  22.948  40.175438"
      ]
     },
     "execution_count": 11,
     "metadata": {},
     "output_type": "execute_result"
    }
   ],
   "source": [
    "dplot[dplot['Moteid']==s].shape\n",
    "# Passo 0\n",
    "sensor = s\n",
    "myDicInit = {\n",
    "    'Data type':['Raw Data'],\n",
    "    'size':[dplot[dplot['Moteid']==sensor].shape[0]], # Pegamos o shape dos dados brutos de dplot para cada sensor\n",
    "    'mean':dplot[dplot['Moteid']==sensor][:dplot.shape[0]]['Temperature'].mean(),\n",
    "    'SD':dplot[dplot['Moteid']==sensor][:dplot.shape[0]]['Temperature'].std(), \n",
    "    'median':dplot[dplot['Moteid']==sensor][:dplot.shape[0]]['Temperature'].median(),\n",
    "    'MAD':dplot[dplot['Moteid']==sensor][:dplot.shape[0]]['Temperature'].mad()  \n",
    "}\n",
    "\n",
    "df0 = pd.DataFrame(myDicInit)\n",
    "df0.head()\n"
   ]
  },
  {
   "cell_type": "code",
   "execution_count": 12,
   "metadata": {},
   "outputs": [
    {
     "data": {
      "text/html": [
       "<div>\n",
       "<style scoped>\n",
       "    .dataframe tbody tr th:only-of-type {\n",
       "        vertical-align: middle;\n",
       "    }\n",
       "\n",
       "    .dataframe tbody tr th {\n",
       "        vertical-align: top;\n",
       "    }\n",
       "\n",
       "    .dataframe thead th {\n",
       "        text-align: right;\n",
       "    }\n",
       "</style>\n",
       "<table border=\"1\" class=\"dataframe\">\n",
       "  <thead>\n",
       "    <tr style=\"text-align: right;\">\n",
       "      <th></th>\n",
       "      <th>Data type</th>\n",
       "      <th>size</th>\n",
       "      <th>mean</th>\n",
       "      <th>SD</th>\n",
       "      <th>median</th>\n",
       "      <th>MAD</th>\n",
       "    </tr>\n",
       "  </thead>\n",
       "  <tbody>\n",
       "    <tr>\n",
       "      <th>0</th>\n",
       "      <td>step 1 (BOR)</td>\n",
       "      <td>30727</td>\n",
       "      <td>21.161829</td>\n",
       "      <td>2.049063</td>\n",
       "      <td>21.1154</td>\n",
       "      <td>1.602168</td>\n",
       "    </tr>\n",
       "  </tbody>\n",
       "</table>\n",
       "</div>"
      ],
      "text/plain": [
       "      Data type   size       mean        SD   median       MAD\n",
       "0  step 1 (BOR)  30727  21.161829  2.049063  21.1154  1.602168"
      ]
     },
     "execution_count": 12,
     "metadata": {},
     "output_type": "execute_result"
    }
   ],
   "source": [
    "# Passo 1\n",
    "myDic = {\n",
    "    'Data type':['step 1 (BOR)'],\n",
    "    'size':[d.shape[0]], # d.shape[0] sensor\n",
    "    'mean':d[:d.shape[0]]['4'].mean(),\n",
    "    'SD':d[:d.shape[0]]['4'].std(), \n",
    "    'median':d[:d.shape[0]]['4'].median(),\n",
    "    'MAD':d[:d.shape[0]]['4'].mad()  \n",
    "}\n",
    "\n",
    "df = pd.DataFrame(myDic)\n",
    "df.head()\n"
   ]
  },
  {
   "cell_type": "code",
   "execution_count": 13,
   "metadata": {},
   "outputs": [
    {
     "name": "stdout",
     "output_type": "stream",
     "text": [
      "30355\n"
     ]
    },
    {
     "data": {
      "text/html": [
       "<div>\n",
       "<style scoped>\n",
       "    .dataframe tbody tr th:only-of-type {\n",
       "        vertical-align: middle;\n",
       "    }\n",
       "\n",
       "    .dataframe tbody tr th {\n",
       "        vertical-align: top;\n",
       "    }\n",
       "\n",
       "    .dataframe thead th {\n",
       "        text-align: right;\n",
       "    }\n",
       "</style>\n",
       "<table border=\"1\" class=\"dataframe\">\n",
       "  <thead>\n",
       "    <tr style=\"text-align: right;\">\n",
       "      <th></th>\n",
       "      <th>Data type</th>\n",
       "      <th>size</th>\n",
       "      <th>mean</th>\n",
       "      <th>SD</th>\n",
       "      <th>median</th>\n",
       "      <th>MAD</th>\n",
       "    </tr>\n",
       "  </thead>\n",
       "  <tbody>\n",
       "    <tr>\n",
       "      <th>0</th>\n",
       "      <td>step 2 (AOR</td>\n",
       "      <td>30355</td>\n",
       "      <td>21.157303</td>\n",
       "      <td>2.048232</td>\n",
       "      <td>21.1056</td>\n",
       "      <td>1.601664</td>\n",
       "    </tr>\n",
       "  </tbody>\n",
       "</table>\n",
       "</div>"
      ],
      "text/plain": [
       "     Data type   size       mean        SD   median       MAD\n",
       "0  step 2 (AOR  30355  21.157303  2.048232  21.1056  1.601664"
      ]
     },
     "execution_count": 13,
     "metadata": {},
     "output_type": "execute_result"
    }
   ],
   "source": [
    "# Passo 2\n",
    "\n",
    "myDicResidualRemoved = {\n",
    "    'Data type':['step 2 (AOR'],\n",
    "    'size':[passoO.shape[0]],\n",
    "    'mean':passoO['4'].mean(),\n",
    "    'SD':passoO['4'].std(), \n",
    "    'median':passoO['4'].median(),\n",
    "    'MAD':passoO['4'].mad()  \n",
    "}\n",
    "\n",
    "dfResAOR = pd.DataFrame(myDicResidualRemoved)\n",
    "print(passoO.shape[0])\n",
    "dfResAOR.head()"
   ]
  },
  {
   "cell_type": "markdown",
   "metadata": {},
   "source": [
    "# Passo 3 - Esse passo é feito depois de ser gerado pelo scrip sx_sy_sz-FI "
   ]
  },
  {
   "cell_type": "code",
   "execution_count": 19,
   "metadata": {},
   "outputs": [
    {
     "name": "stdout",
     "output_type": "stream",
     "text": [
      "65536\n"
     ]
    },
    {
     "data": {
      "text/html": [
       "<div>\n",
       "<style scoped>\n",
       "    .dataframe tbody tr th:only-of-type {\n",
       "        vertical-align: middle;\n",
       "    }\n",
       "\n",
       "    .dataframe tbody tr th {\n",
       "        vertical-align: top;\n",
       "    }\n",
       "\n",
       "    .dataframe thead th {\n",
       "        text-align: right;\n",
       "    }\n",
       "</style>\n",
       "<table border=\"1\" class=\"dataframe\">\n",
       "  <thead>\n",
       "    <tr style=\"text-align: right;\">\n",
       "      <th></th>\n",
       "      <th>Data type</th>\n",
       "      <th>size</th>\n",
       "      <th>mean</th>\n",
       "      <th>SD</th>\n",
       "      <th>median</th>\n",
       "      <th>MAD</th>\n",
       "    </tr>\n",
       "  </thead>\n",
       "  <tbody>\n",
       "    <tr>\n",
       "      <th>0</th>\n",
       "      <td>step 3</td>\n",
       "      <td>65536</td>\n",
       "      <td>18.976037</td>\n",
       "      <td>2.433975</td>\n",
       "      <td>17.1</td>\n",
       "      <td>2.143681</td>\n",
       "    </tr>\n",
       "  </tbody>\n",
       "</table>\n",
       "</div>"
      ],
      "text/plain": [
       "  Data type   size       mean        SD  median       MAD\n",
       "0    step 3  65536  18.976037  2.433975    17.1  2.143681"
      ]
     },
     "execution_count": 19,
     "metadata": {},
     "output_type": "execute_result"
    }
   ],
   "source": [
    "# Passo 3 - Esse passo é feito depois de ser gerado pelo scrip s2_s1_s3-FI \n",
    "\n",
    "myDicFinalImputation = {\n",
    "    'Data type':['step 3'],\n",
    "    'size':[teste.shape[0]],\n",
    "    'mean':teste['4'].mean(),\n",
    "    'SD':teste['4'].std(), \n",
    "    'median':teste['4'].median(),\n",
    "    'MAD':teste['4'].mad()  \n",
    "}\n",
    "\n",
    "dfFinalI = pd.DataFrame(myDicFinalImputation)\n",
    "print(teste.shape[0])\n",
    "dfFinalI.head()"
   ]
  },
  {
   "cell_type": "code",
   "execution_count": 20,
   "metadata": {},
   "outputs": [
    {
     "name": "stdout",
     "output_type": "stream",
     "text": [
      "  Data type   size       mean         SD  median        MAD\n",
      "0  Raw Data  48786  50.525772  44.693619  22.948  40.175438\n",
      "      Data type   size       mean        SD   median       MAD\n",
      "0  step 1 (BOR)  30727  21.161829  2.049063  21.1154  1.602168\n",
      "     Data type   size       mean        SD   median       MAD\n",
      "0  step 2 (AOR  30355  21.157303  2.048232  21.1056  1.601664\n",
      "  Data type   size       mean        SD  median       MAD\n",
      "0    step 3  65536  18.976037  2.433975    17.1  2.143681\n"
     ]
    }
   ],
   "source": [
    "print( df0.head() )\n",
    "print( df.head() )\n",
    "print( dfResAOR.head() )\n",
    "print( dfFinalI.head() )"
   ]
  },
  {
   "cell_type": "markdown",
   "metadata": {},
   "source": [
    "##  Etapa para reconstruir as Épocas que estão faltando"
   ]
  },
  {
   "cell_type": "code",
   "execution_count": 14,
   "metadata": {},
   "outputs": [
    {
     "name": "stdout",
     "output_type": "stream",
     "text": [
      "35239\n",
      "65536 30297\n"
     ]
    }
   ],
   "source": [
    "indiceImput = []\n",
    "for i in range(65536):\n",
    "    indiceImput.append(i)\n",
    "np.max(indiceImput)\n",
    "passoOEp = passoO['2'].tolist()\n",
    "len(passoOEp)\n",
    "\n",
    "idInputEq = set(indiceImput)\n",
    "idInputNEq = set(passoOEp)\n",
    "resultIntersecEp = list( idInputEq - idInputNEq )\n",
    "\n",
    "print(len(resultIntersecEp)) # {4, 6, 10}\n",
    "\n",
    "print(len(idInputEq), len(idInputNEq))"
   ]
  },
  {
   "cell_type": "code",
   "execution_count": 15,
   "metadata": {},
   "outputs": [
    {
     "data": {
      "text/plain": [
       "((30727, 8), int,              1\n",
       " 2004-02-28  70)"
      ]
     },
     "execution_count": 15,
     "metadata": {},
     "output_type": "execute_result"
    }
   ],
   "source": [
    "# Create a time series of 2000 elements, one very five minutes starting on 1/1/2000\n",
    "time = pd.date_range('2004-02-28', periods=65536, freq='31s')\n",
    "\n",
    "# Create a pandas series with a random values between 0 and 100, using 'time' as the index\n",
    "series = pd.Series(np.random.randint(100, size=65536), index=time)\n",
    "# View the first few rows of the data\n",
    "series[0:3]\n",
    "# dfHora = series.to\n",
    "dfHora  =pd.DataFrame(series, columns=['1'])\n",
    "\n",
    "data.shape, type( len(resultIntersecEp) ), dfHora.head(1)"
   ]
  },
  {
   "cell_type": "code",
   "execution_count": 16,
   "metadata": {},
   "outputs": [
    {
     "name": "stdout",
     "output_type": "stream",
     "text": [
      "35239\n"
     ]
    }
   ],
   "source": [
    "# tamanho resultIntersecEp # CSV das épocas faltantes\n",
    "listofzeros = [0] * len(resultIntersecEp)\n",
    "\n",
    "#len(resultIntersecEp)\n",
    "myDicNewdf2 = {\n",
    "    '0':dplot[:len(resultIntersecEp)]['Date'],\n",
    "    '1':dplot[:len(resultIntersecEp)]['Time'],#data[:32828]['1']\n",
    "    '2':resultIntersecEp[:len(resultIntersecEp)],\n",
    "    '3':dplot[:len(resultIntersecEp)]['Moteid'], \n",
    "    '4':listofzeros,\n",
    "    '5':dplot[:len(resultIntersecEp)]['Humidity'],\n",
    "    '6':dplot[:len(resultIntersecEp)]['Light'],\n",
    "    '7':dplot[:len(resultIntersecEp)]['Voltage']  \n",
    "}\n",
    "\n",
    "dfOut = pd.DataFrame(myDicNewdf2)\n",
    "print(dfOut.shape[0])\n",
    "dfOut.to_csv('csvAllOutliers.csv', index=False)\n",
    "# dfOut.tail(10)\n"
   ]
  },
  {
   "cell_type": "markdown",
   "metadata": {},
   "source": [
    "# Gerando o csv para fazer reconstrução dos dados"
   ]
  },
  {
   "cell_type": "code",
   "execution_count": 17,
   "metadata": {},
   "outputs": [
    {
     "name": "stdout",
     "output_type": "stream",
     "text": [
      "(65594, 8)\n"
     ]
    }
   ],
   "source": [
    "# Gerando o csv para fazer reconstrução dos dados\n",
    "dfFinalStep = pd.concat([dfOut,passoO], sort='2', axis=0)\n",
    "dfFinalStep.sort_values(by = '2', inplace = True)\n",
    "\n",
    "# dfFinalStep.set_index('2', inplace=True)\n",
    "print(dfFinalStep.shape)\n",
    "\n",
    "dfFinalStep.tail(10)\n",
    "# 65536-65623\n",
    "dfFinalStep.to_csv('dfImputation.csv', index=False)"
   ]
  },
  {
   "cell_type": "markdown",
   "metadata": {},
   "source": [
    "# Depois de ter obtido o resultado do script joga o resultado aqui"
   ]
  },
  {
   "cell_type": "code",
   "execution_count": 18,
   "metadata": {},
   "outputs": [
    {
     "data": {
      "text/plain": [
       "((65536, 9), (65594, 8))"
      ]
     },
     "execution_count": 18,
     "metadata": {},
     "output_type": "execute_result"
    }
   ],
   "source": [
    "final= pd.read_csv('finalsensor.csv')\n",
    "teste = final.drop_duplicates(subset=['2'],keep='first', inplace=False)\n",
    "teste.shape, dfFinalStep.shape\n"
   ]
  }
 ],
 "metadata": {
  "celltoolbar": "Raw Cell Format",
  "kernelspec": {
   "display_name": "Python 3",
   "language": "python",
   "name": "python3"
  },
  "language_info": {
   "codemirror_mode": {
    "name": "ipython",
    "version": 3
   },
   "file_extension": ".py",
   "mimetype": "text/x-python",
   "name": "python",
   "nbconvert_exporter": "python",
   "pygments_lexer": "ipython3",
   "version": "3.6.5"
  }
 },
 "nbformat": 4,
 "nbformat_minor": 2
}
