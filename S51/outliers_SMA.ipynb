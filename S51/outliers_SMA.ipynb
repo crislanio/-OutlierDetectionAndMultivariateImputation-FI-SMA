{
 "cells": [
  {
   "cell_type": "code",
   "execution_count": 1,
   "metadata": {},
   "outputs": [],
   "source": [
    "import pandas as pd\n",
    "import numpy as np\n",
    "from pandas import Series as sr, DataFrame as df\n",
    "import matplotlib.pyplot as plt\n",
    "import seaborn as sns\n",
    "#style.use('seaborn')\n",
    "%matplotlib inline"
   ]
  },
  {
   "cell_type": "code",
   "execution_count": 2,
   "metadata": {},
   "outputs": [
    {
     "data": {
      "text/html": [
       "<div>\n",
       "<style scoped>\n",
       "    .dataframe tbody tr th:only-of-type {\n",
       "        vertical-align: middle;\n",
       "    }\n",
       "\n",
       "    .dataframe tbody tr th {\n",
       "        vertical-align: top;\n",
       "    }\n",
       "\n",
       "    .dataframe thead th {\n",
       "        text-align: right;\n",
       "    }\n",
       "</style>\n",
       "<table border=\"1\" class=\"dataframe\">\n",
       "  <thead>\n",
       "    <tr style=\"text-align: right;\">\n",
       "      <th></th>\n",
       "      <th>0</th>\n",
       "      <th>1</th>\n",
       "      <th>2</th>\n",
       "      <th>3</th>\n",
       "      <th>4</th>\n",
       "      <th>5</th>\n",
       "      <th>6</th>\n",
       "      <th>7</th>\n",
       "    </tr>\n",
       "  </thead>\n",
       "  <tbody>\n",
       "    <tr>\n",
       "      <th>0</th>\n",
       "      <td>2004-03-31</td>\n",
       "      <td>03:38:15.757551</td>\n",
       "      <td>2</td>\n",
       "      <td>1.0</td>\n",
       "      <td>122.1530</td>\n",
       "      <td>-3.91901</td>\n",
       "      <td>11.04</td>\n",
       "      <td>2.03397</td>\n",
       "    </tr>\n",
       "    <tr>\n",
       "      <th>1</th>\n",
       "      <td>2004-02-28</td>\n",
       "      <td>00:59:16.02785</td>\n",
       "      <td>3</td>\n",
       "      <td>1.0</td>\n",
       "      <td>19.9884</td>\n",
       "      <td>37.09330</td>\n",
       "      <td>45.08</td>\n",
       "      <td>2.69964</td>\n",
       "    </tr>\n",
       "    <tr>\n",
       "      <th>2</th>\n",
       "      <td>2004-02-28</td>\n",
       "      <td>01:03:16.33393</td>\n",
       "      <td>11</td>\n",
       "      <td>1.0</td>\n",
       "      <td>19.3024</td>\n",
       "      <td>38.46290</td>\n",
       "      <td>45.08</td>\n",
       "      <td>2.68742</td>\n",
       "    </tr>\n",
       "    <tr>\n",
       "      <th>3</th>\n",
       "      <td>2004-02-28</td>\n",
       "      <td>01:06:16.013453</td>\n",
       "      <td>17</td>\n",
       "      <td>1.0</td>\n",
       "      <td>19.1652</td>\n",
       "      <td>38.80390</td>\n",
       "      <td>45.08</td>\n",
       "      <td>2.68742</td>\n",
       "    </tr>\n",
       "    <tr>\n",
       "      <th>4</th>\n",
       "      <td>2004-02-28</td>\n",
       "      <td>01:06:46.778088</td>\n",
       "      <td>18</td>\n",
       "      <td>1.0</td>\n",
       "      <td>19.1750</td>\n",
       "      <td>38.83790</td>\n",
       "      <td>45.08</td>\n",
       "      <td>2.69964</td>\n",
       "    </tr>\n",
       "  </tbody>\n",
       "</table>\n",
       "</div>"
      ],
      "text/plain": [
       "            0                1   2    3         4         5      6        7\n",
       "0  2004-03-31  03:38:15.757551   2  1.0  122.1530  -3.91901  11.04  2.03397\n",
       "1  2004-02-28   00:59:16.02785   3  1.0   19.9884  37.09330  45.08  2.69964\n",
       "2  2004-02-28   01:03:16.33393  11  1.0   19.3024  38.46290  45.08  2.68742\n",
       "3  2004-02-28  01:06:16.013453  17  1.0   19.1652  38.80390  45.08  2.68742\n",
       "4  2004-02-28  01:06:46.778088  18  1.0   19.1750  38.83790  45.08  2.69964"
      ]
     },
     "execution_count": 2,
     "metadata": {},
     "output_type": "execute_result"
    }
   ],
   "source": [
    "data = pd.read_csv(\"../data.txt\", sep = ' ', header = None)\n",
    "data.head()"
   ]
  },
  {
   "cell_type": "code",
   "execution_count": 3,
   "metadata": {},
   "outputs": [
    {
     "data": {
      "text/plain": [
       "(2313682, 8)"
      ]
     },
     "execution_count": 3,
     "metadata": {},
     "output_type": "execute_result"
    }
   ],
   "source": [
    "data_column_names = [\"Date\", \"Time\", \"Epoch\", \"Moteid\", \"Temperature\", \"Humidity\", \"Light\", \"Voltage\"]\n",
    "dplot = pd.read_csv(\"../data.txt\", sep = ' ', names = data_column_names)\n",
    "dplot.shape"
   ]
  },
  {
   "cell_type": "code",
   "execution_count": 4,
   "metadata": {},
   "outputs": [
    {
     "data": {
      "text/html": [
       "<div>\n",
       "<style scoped>\n",
       "    .dataframe tbody tr th:only-of-type {\n",
       "        vertical-align: middle;\n",
       "    }\n",
       "\n",
       "    .dataframe tbody tr th {\n",
       "        vertical-align: top;\n",
       "    }\n",
       "\n",
       "    .dataframe thead th {\n",
       "        text-align: right;\n",
       "    }\n",
       "</style>\n",
       "<table border=\"1\" class=\"dataframe\">\n",
       "  <thead>\n",
       "    <tr style=\"text-align: right;\">\n",
       "      <th></th>\n",
       "      <th>0</th>\n",
       "      <th>1</th>\n",
       "      <th>2</th>\n",
       "      <th>3</th>\n",
       "      <th>4</th>\n",
       "      <th>5</th>\n",
       "      <th>6</th>\n",
       "      <th>7</th>\n",
       "    </tr>\n",
       "  </thead>\n",
       "  <tbody>\n",
       "    <tr>\n",
       "      <th>2163449</th>\n",
       "      <td>2004-02-28</td>\n",
       "      <td>00:59:17.103111</td>\n",
       "      <td>3</td>\n",
       "      <td>51.0</td>\n",
       "      <td>18.6066</td>\n",
       "      <td>37.7792</td>\n",
       "      <td>143.52</td>\n",
       "      <td>2.68742</td>\n",
       "    </tr>\n",
       "    <tr>\n",
       "      <th>2163450</th>\n",
       "      <td>2004-03-12</td>\n",
       "      <td>09:34:10.14561</td>\n",
       "      <td>5</td>\n",
       "      <td>51.0</td>\n",
       "      <td>23.7908</td>\n",
       "      <td>36.4052</td>\n",
       "      <td>456.32</td>\n",
       "      <td>2.54901</td>\n",
       "    </tr>\n",
       "    <tr>\n",
       "      <th>2163451</th>\n",
       "      <td>2004-03-12</td>\n",
       "      <td>09:34:38.639947</td>\n",
       "      <td>6</td>\n",
       "      <td>51.0</td>\n",
       "      <td>23.7908</td>\n",
       "      <td>36.3707</td>\n",
       "      <td>456.32</td>\n",
       "      <td>2.53812</td>\n",
       "    </tr>\n",
       "    <tr>\n",
       "      <th>2163452</th>\n",
       "      <td>2004-02-28</td>\n",
       "      <td>01:07:16.804107</td>\n",
       "      <td>19</td>\n",
       "      <td>51.0</td>\n",
       "      <td>17.8422</td>\n",
       "      <td>39.5521</td>\n",
       "      <td>136.16</td>\n",
       "      <td>2.67532</td>\n",
       "    </tr>\n",
       "    <tr>\n",
       "      <th>2163453</th>\n",
       "      <td>2004-02-28</td>\n",
       "      <td>01:08:16.606245</td>\n",
       "      <td>21</td>\n",
       "      <td>51.0</td>\n",
       "      <td>17.8128</td>\n",
       "      <td>39.6200</td>\n",
       "      <td>136.16</td>\n",
       "      <td>2.67532</td>\n",
       "    </tr>\n",
       "  </tbody>\n",
       "</table>\n",
       "</div>"
      ],
      "text/plain": [
       "                  0                1   2     3        4        5       6  \\\n",
       "2163449  2004-02-28  00:59:17.103111   3  51.0  18.6066  37.7792  143.52   \n",
       "2163450  2004-03-12   09:34:10.14561   5  51.0  23.7908  36.4052  456.32   \n",
       "2163451  2004-03-12  09:34:38.639947   6  51.0  23.7908  36.3707  456.32   \n",
       "2163452  2004-02-28  01:07:16.804107  19  51.0  17.8422  39.5521  136.16   \n",
       "2163453  2004-02-28  01:08:16.606245  21  51.0  17.8128  39.6200  136.16   \n",
       "\n",
       "               7  \n",
       "2163449  2.68742  \n",
       "2163450  2.54901  \n",
       "2163451  2.53812  \n",
       "2163452  2.67532  \n",
       "2163453  2.67532  "
      ]
     },
     "execution_count": 4,
     "metadata": {},
     "output_type": "execute_result"
    }
   ],
   "source": [
    "s = 51.0\n",
    "data = data[data[3]==s]\n",
    "data.head()"
   ]
  },
  {
   "cell_type": "code",
   "execution_count": 5,
   "metadata": {},
   "outputs": [
    {
     "name": "stdout",
     "output_type": "stream",
     "text": [
      "(42259, 8) 8161\n",
      "                  0                1   2     3        4        5       6  \\\n",
      "2163449  2004-02-28  00:59:17.103111   3  51.0  18.6066  37.7792  143.52   \n",
      "2163450  2004-03-12   09:34:10.14561   5  51.0  23.7908  36.4052  456.32   \n",
      "2163451  2004-03-12  09:34:38.639947   6  51.0  23.7908  36.3707  456.32   \n",
      "2163452  2004-02-28  01:07:16.804107  19  51.0  17.8422  39.5521  136.16   \n",
      "2163453  2004-02-28  01:08:16.606245  21  51.0  17.8128  39.6200  136.16   \n",
      "\n",
      "               7  \n",
      "2163449  2.68742  \n",
      "2163450  2.54901  \n",
      "2163451  2.53812  \n",
      "2163452  2.67532  \n",
      "2163453  2.67532  \n",
      "(42259, 8)\n",
      "(34098, 8)\n",
      "51.0 \n",
      "             0                1   2     3        4        5       6        7\n",
      "0  2004-02-28  00:59:17.103111   3  51.0  18.6066  37.7792  143.52  2.68742\n",
      "1  2004-03-12   09:34:10.14561   5  51.0  23.7908  36.4052  456.32  2.54901\n",
      "2  2004-03-12  09:34:38.639947   6  51.0  23.7908  36.3707  456.32  2.53812\n",
      "3  2004-02-28  01:07:16.804107  19  51.0  17.8422  39.5521  136.16  2.67532\n",
      "4  2004-02-28  01:08:16.606245  21  51.0  17.8128  39.6200  136.16  2.67532\n",
      "--------------------------------\n"
     ]
    }
   ],
   "source": [
    "# print(S1df.shape)\n",
    "outliersILista = []\n",
    "outliersIListaV = []\n",
    "for i, row in data.iterrows():\n",
    "    if row[4] >=26.2 :\n",
    "        outliersILista.append(i)\n",
    "        outliersIListaV.append(row[4])\n",
    "print(data.shape, len(outliersILista))\n",
    "# Removendo outliers no sensor\n",
    "passo3= data.copy()\n",
    "print(passo3.head())\n",
    "print(passo3.shape)\n",
    "passo3= passo3.drop(outliersILista)\n",
    "print(passo3.shape)\n",
    "passo3.to_csv('sensor.csv')\n",
    "data = pd.read_csv(\"sensor.csv\")\n",
    "data.shape\n",
    "data.drop(['Unnamed: 0'], axis=1,inplace=True)\n",
    "# data.head(1)\n",
    "for key,d in data[:data.shape[0]].groupby('3'):\n",
    "    print(key,\"\\n\",d.head())\n",
    "    print(\"--------------------------------\")"
   ]
  },
  {
   "cell_type": "code",
   "execution_count": 6,
   "metadata": {},
   "outputs": [
    {
     "data": {
      "text/plain": [
       "((34098, 8),\n",
       "                 0                1      2     3        4         5       6  \\\n",
       " 17350  2004-03-21  20:34:27.234102  29237  51.0  26.0938  44.44880    0.46   \n",
       " 17353  2004-03-21  20:36:30.152415  29241  51.0  26.1624  44.44880    0.46   \n",
       " 17356  2004-03-21  20:38:54.742083  29245  51.0  26.1428  44.44880    0.46   \n",
       " 17357  2004-03-21  20:39:15.361249  29246  51.0  26.1918  44.44880    0.46   \n",
       " 24312  2004-03-26  21:18:11.992742  43724  51.0 -38.4000  -3.87853  217.12   \n",
       " \n",
       "              7  \n",
       " 17350  2.34751  \n",
       " 17353  2.35683  \n",
       " 17356  2.35683  \n",
       " 17357  2.34751  \n",
       " 24312  1.93459  )"
      ]
     },
     "execution_count": 6,
     "metadata": {},
     "output_type": "execute_result"
    }
   ],
   "source": [
    "for key, d in data[:data.shape[0]].groupby('3'):\n",
    "    break\n",
    "    d.head()\n",
    "\n",
    "d = d.sort_values(['0','1'],ascending = [1,1])\n",
    "d.shape, (d.tail())"
   ]
  },
  {
   "cell_type": "code",
   "execution_count": 7,
   "metadata": {
    "scrolled": true
   },
   "outputs": [
    {
     "data": {
      "image/png": "[encoded data removed]",
      "text/plain": [
       "<Figure size 1080x576 with 1 Axes>"
      ]
     },
     "metadata": {},
     "output_type": "display_data"
    }
   ],
   "source": [
    "from itertools import count\n",
    "import matplotlib.pyplot as plt\n",
    "from numpy import linspace, loadtxt, ones, convolve\n",
    "import numpy as np\n",
    "import pandas as pd\n",
    "import collections\n",
    "from random import randint\n",
    "from matplotlib import style\n",
    "%matplotlib inline\n",
    "def moving_average(data, window_size):\n",
    "\n",
    "    window = np.ones(int(window_size))/float(window_size)\n",
    "    return np.convolve(data, window, 'same')\n",
    "\n",
    "\n",
    "def explain_anomalies(y, window_size, sigma=1.0):\n",
    "\n",
    "    avg = moving_average(y, window_size).tolist()\n",
    "    residual = y - avg\n",
    "    # Calculate the variation in the distribution of the residual\n",
    "    std = np.std(residual)\n",
    "    return {'standard_deviation': round(std, 2),\n",
    "            'anomalies_dict': collections.OrderedDict([(index, y_i) for\n",
    "                                                       index, y_i, avg_i in zip(count(), y, avg)\n",
    "              if (y_i > avg_i + (sigma*std)) | (y_i < avg_i - (sigma*std))])}\n",
    "\n",
    "# This function is repsonsible for displaying how the function performs on the given dataset.\n",
    "def plot_results(x, y, window_size, sigma_value=1,\n",
    "                 text_xlabel=\"X Axis\", text_ylabel=\"Y Axis\", applying_rolling_std=False):\n",
    "\n",
    "    plt.figure(figsize=(15, 8))\n",
    "    plt.plot(x, y, \"k.\")\n",
    "    y_av = moving_average(y, window_size)\n",
    "    plt.plot(x, y_av, color='gray')\n",
    "    plt.xlim(0, 30000)\n",
    "    plt.xlabel(text_xlabel)\n",
    "    plt.ylabel(text_ylabel)\n",
    "\n",
    "    # Query for the anomalies and plot the same\n",
    "    events = {}\n",
    "    \n",
    "    events = explain_anomalies(y, window_size=window_size, sigma=sigma_value)\n",
    "\n",
    "    x_anomaly = np.fromiter(events['anomalies_dict'].keys(), dtype=int, count=len(events['anomalies_dict']))\n",
    "    y_anomaly = np.fromiter(events['anomalies_dict'].values(), dtype=float,\n",
    "                                            count=len(events['anomalies_dict']))\n",
    "    plt.plot(x_anomaly, y_anomaly, \"r*\")\n",
    "    #print(x_anomaly)\n",
    "\n",
    "    # add grid and lines and enable the plot\n",
    "    plt.grid(True)\n",
    "    plt.show()\n",
    "\n",
    "# This function is repsonsible for displaying how the function performs on the given dataset.\n",
    "def plot_results2(x, y, window_size, sigma_value=1,\n",
    "                 text_xlabel=\"X Axis\", text_ylabel=\"Y Axis\", applying_rolling_std=False):\n",
    "\n",
    "    plt.figure(figsize=(15, 8))\n",
    "    plt.plot(x, y, \"k.\")\n",
    "    y_av = moving_average(y, window_size)\n",
    "    plt.plot(x, y_av, color='gray')\n",
    "    plt.xlim(0, 30000)\n",
    "    plt.xlabel(text_xlabel)\n",
    "    plt.ylabel(text_ylabel)\n",
    "\n",
    "    # Query for the anomalies and plot the same\n",
    "    events = {}\n",
    "    if applying_rolling_std:\n",
    "        events = explain_anomalies_rolling_std(y, window_size=window_size, sigma=sigma_value)\n",
    "    else:\n",
    "        events = explain_anomalies(y, window_size=window_size, sigma=sigma_value)\n",
    "\n",
    "    x_anomaly = np.fromiter(events['anomalies_dict'].keys(), dtype=int, count=len(events['anomalies_dict']))\n",
    "    y_anomaly = np.fromiter(events['anomalies_dict'].values(), dtype=float,\n",
    "                                            count=len(events['anomalies_dict']))\n",
    "#     plt.plot(x_anomaly, y_anomaly, )\n",
    "    #print(x_anomaly)\n",
    "\n",
    "    # add grid and lines and enable the plot\n",
    "    plt.grid(True)\n",
    "    plt.show()\n",
    "\n",
    "\n",
    "# 4. Lets play with the functions\n",
    "x = data[:data.shape[0]]['2']\n",
    "Y = data[:data.shape[0]]['4']\n",
    "\n",
    "# plot the results\n",
    "plot_results(x, y=Y, window_size=10, text_xlabel=\"Date\", sigma_value=2,text_ylabel=\"Temperature\")\n",
    "\n"
   ]
  },
  {
   "cell_type": "code",
   "execution_count": 8,
   "metadata": {},
   "outputs": [
    {
     "data": {
      "image/png": "[encoded data removed]",
      "text/plain": [
       "<Figure size 1080x576 with 1 Axes>"
      ]
     },
     "metadata": {},
     "output_type": "display_data"
    }
   ],
   "source": [
    "x = d[:d.shape[0]]['2']\n",
    "Y = d[:d.shape[0]]['4']\n",
    "\n",
    "plot_results2(x, y=Y, window_size=10, text_xlabel=\"Date\", sigma_value=2,text_ylabel=\"Temperature\")"
   ]
  },
  {
   "cell_type": "code",
   "execution_count": 9,
   "metadata": {},
   "outputs": [
    {
     "name": "stdout",
     "output_type": "stream",
     "text": [
      "113\n"
     ]
    },
    {
     "data": {
      "text/plain": [
       "array([    0,     1,     2,     3,     4,  4054,  4055,  4056,  4057,\n",
       "        4058,  4059,  4060,  4061,  4062,  5415,  5416,  5419,  5420,\n",
       "        5421,  5422,  6655,  6656,  6657,  6658,  6659,  6660,  6661,\n",
       "        6662,  6696,  6697,  6699,  6700,  6701,  6702,  8001,  8002,\n",
       "        8005,  8006,  8007,  8008,  8108,  8120,  9905,  9906,  9907,\n",
       "        9908,  9909,  9910,  9911, 15405, 15406, 15408, 15409, 15410,\n",
       "       17300, 17301, 17302, 17303, 17304, 17305, 19415, 19416, 19418,\n",
       "       19419, 19420, 19421, 19615, 19616, 19617, 19618, 19619, 19620,\n",
       "       19621, 19622, 25842, 25843, 25844, 25845, 25846, 25847, 25848,\n",
       "       26303, 26304, 26305, 26306, 26307, 26309, 26310, 26316, 26317,\n",
       "       26318, 26319, 26320, 26321, 26322, 29269, 29271, 32625, 32626,\n",
       "       33342, 33352, 33461, 33523, 33529, 33532, 33538, 33557, 33743,\n",
       "       34093, 34094, 34095, 34096, 34097])"
      ]
     },
     "execution_count": 9,
     "metadata": {},
     "output_type": "execute_result"
    }
   ],
   "source": [
    "def final_results(x, y, window_size, sigma_value=1,\n",
    "                 text_xlabel=\"X Axis\", text_ylabel=\"Y Axis\", applying_rolling_std=False):\n",
    "    y_av = moving_average(y, window_size)\n",
    "\n",
    "    events = {}\n",
    "    events = explain_anomalies(y, window_size=window_size, sigma=sigma_value)\n",
    "\n",
    "    \n",
    "    x_anomaly = np.fromiter(events['anomalies_dict'].keys(), dtype=int, count=len(events['anomalies_dict']))\n",
    "    y_anomaly = np.fromiter(events['anomalies_dict'].values(), dtype=float,\n",
    "                                            count=len(events['anomalies_dict']))\n",
    "    print(len(x_anomaly))\n",
    "    return x_anomaly\n",
    "\n",
    "x = d[:d.shape[0]]['2']\n",
    "Y = d[:d.shape[0]]['4']\n",
    "\n",
    "outliersIndices = final_results(x, y=Y, window_size=10, text_xlabel=\"2\", sigma_value=2,text_ylabel=\"4\")\n",
    "outliersIndices"
   ]
  },
  {
   "cell_type": "code",
   "execution_count": 10,
   "metadata": {},
   "outputs": [
    {
     "name": "stdout",
     "output_type": "stream",
     "text": [
      "(34098, 8)\n",
      "(33985, 8)\n",
      "113\n"
     ]
    },
    {
     "data": {
      "image/png": "[encoded data removed]",
      "text/plain": [
       "<Figure size 1080x576 with 1 Axes>"
      ]
     },
     "metadata": {},
     "output_type": "display_data"
    }
   ],
   "source": [
    "## Checando e removendo outliers no step 3.\n",
    "passoO= d[:d.shape[0]].copy()\n",
    "print(passoO.shape)\n",
    "passoO= passoO.drop(passoO.index[outliersIndices])\n",
    "print(passoO.shape)\n",
    "def plot_resultsFinal(x, y, window_size, sigma_value=1,\n",
    "                 text_xlabel=\"X Axis\", text_ylabel=\"Y Axis\", applying_rolling_std=False):\n",
    "   \n",
    "    plt.figure(figsize=(15, 8))\n",
    "    plt.plot(x, y, \"k.\")\n",
    "    y_av = moving_average(y, window_size)\n",
    "    plt.plot(x, y_av, color='green')\n",
    "    plt.xlim(0, 30000)\n",
    "    plt.xlabel(text_xlabel)\n",
    "    plt.ylabel(text_ylabel)\n",
    "\n",
    "    # Query for the anomalies and plot the same\n",
    "    events = {}\n",
    "    events = explain_anomalies(y, window_size=window_size, sigma=sigma_value)\n",
    "\n",
    "    \n",
    "    \n",
    "    x_anomaly = np.fromiter(events['anomalies_dict'].keys(), dtype=int, count=len(events['anomalies_dict']))\n",
    "    y_anomaly = np.fromiter(events['anomalies_dict'].values(), dtype=float,\n",
    "                                            count=len(events['anomalies_dict']))\n",
    "#     plt.plot(x_anomaly, y_anomaly, \"r*\")\n",
    "# #     print(len(x_anomaly), x_anomaly)\n",
    "    print(len(x_anomaly))\n",
    "\n",
    "    \n",
    "    # add grid and lines and enable the plot\n",
    "    plt.grid(True)\n",
    "    plt.show()  \n",
    "def plot_resultsAOR(x, y, window_size, sigma_value=1,\n",
    "                 text_xlabel=\"X Axis\", text_ylabel=\"Y Axis\", applying_rolling_std=False):\n",
    "   \n",
    "    plt.figure(figsize=(15, 8))\n",
    "    plt.plot(x, y, \"k.\")\n",
    "    y_av = moving_average(y, window_size)\n",
    "    plt.plot(x, y_av, color='green')\n",
    "    plt.xlim(0, 30000)\n",
    "    plt.xlabel(text_xlabel)\n",
    "    plt.ylabel(text_ylabel)\n",
    "\n",
    "    # Query for the anomalies and plot the same\n",
    "    events = {}\n",
    "    events = explain_anomalies(y, window_size=window_size, sigma=sigma_value)\n",
    "\n",
    "    \n",
    "    \n",
    "    x_anomaly = np.fromiter(events['anomalies_dict'].keys(), dtype=int, count=len(events['anomalies_dict']))\n",
    "    y_anomaly = np.fromiter(events['anomalies_dict'].values(), dtype=float,\n",
    "                                            count=len(events['anomalies_dict']))\n",
    "#     plt.plot(x_anomaly, y_anomaly, \"r*\")\n",
    "# #     print(len(x_anomaly), x_anomaly)\n",
    "    print(len(x_anomaly))\n",
    "\n",
    "    \n",
    "    # add grid and lines and enable the plot\n",
    "    plt.grid(True)\n",
    "    plt.show()   \n",
    "# Step 3 COmplete Antes de remover outliers\n",
    "\n",
    "xF = d[:d.shape[0]]['2']\n",
    "YF = d[:d.shape[0]]['4']\n",
    "\n",
    "# plot residual\n",
    "plot_resultsAOR(xF, y=YF, window_size=10, text_xlabel=\"Date\", sigma_value=2,text_ylabel=\"Temperature\")"
   ]
  },
  {
   "cell_type": "markdown",
   "metadata": {},
   "source": [
    "# Depois de ter os dados reconstruídos - verificamos a série temporal"
   ]
  },
  {
   "cell_type": "code",
   "execution_count": 11,
   "metadata": {},
   "outputs": [
    {
     "ename": "NameError",
     "evalue": "name 'teste' is not defined",
     "output_type": "error",
     "traceback": [
      "\u001b[1;31m---------------------------------------------------------------------------\u001b[0m",
      "\u001b[1;31mNameError\u001b[0m                                 Traceback (most recent call last)",
      "\u001b[1;32m<ipython-input-11-114e1a25d523>\u001b[0m in \u001b[0;36m<module>\u001b[1;34m()\u001b[0m\n\u001b[0;32m      1\u001b[0m \u001b[1;31m# Final reconstrução - passo 3 # Executar depois de gerar o dataframe teste no scrip do sensor\u001b[0m\u001b[1;33m\u001b[0m\u001b[1;33m\u001b[0m\u001b[0m\n\u001b[1;32m----> 2\u001b[1;33m \u001b[0mxF\u001b[0m \u001b[1;33m=\u001b[0m \u001b[0mteste\u001b[0m\u001b[1;33m[\u001b[0m\u001b[1;34m'2'\u001b[0m\u001b[1;33m]\u001b[0m\u001b[1;33m\u001b[0m\u001b[0m\n\u001b[0m\u001b[0;32m      3\u001b[0m \u001b[0mYF\u001b[0m \u001b[1;33m=\u001b[0m \u001b[0mteste\u001b[0m\u001b[1;33m[\u001b[0m\u001b[1;34m'4'\u001b[0m\u001b[1;33m]\u001b[0m\u001b[1;33m\u001b[0m\u001b[0m\n\u001b[0;32m      4\u001b[0m \u001b[1;33m\u001b[0m\u001b[0m\n\u001b[0;32m      5\u001b[0m \u001b[0mplot_resultsFinal\u001b[0m\u001b[1;33m(\u001b[0m\u001b[0mxF\u001b[0m\u001b[1;33m,\u001b[0m \u001b[0my\u001b[0m\u001b[1;33m=\u001b[0m\u001b[0mYF\u001b[0m\u001b[1;33m,\u001b[0m \u001b[0mwindow_size\u001b[0m\u001b[1;33m=\u001b[0m\u001b[1;36m10\u001b[0m\u001b[1;33m,\u001b[0m \u001b[0mtext_xlabel\u001b[0m\u001b[1;33m=\u001b[0m\u001b[1;34m\"Date\"\u001b[0m\u001b[1;33m,\u001b[0m \u001b[0msigma_value\u001b[0m\u001b[1;33m=\u001b[0m\u001b[1;36m2\u001b[0m\u001b[1;33m,\u001b[0m\u001b[0mtext_ylabel\u001b[0m\u001b[1;33m=\u001b[0m\u001b[1;34m\"Temperature\"\u001b[0m\u001b[1;33m)\u001b[0m\u001b[1;33m\u001b[0m\u001b[0m\n",
      "\u001b[1;31mNameError\u001b[0m: name 'teste' is not defined"
     ]
    }
   ],
   "source": [
    "# Final reconstrução - passo 3 # Executar depois de gerar o dataframe teste no scrip do sensor\n",
    "xF = teste['2']\n",
    "YF = teste['4']\n",
    "\n",
    "plot_resultsFinal(xF, y=YF, window_size=10, text_xlabel=\"Date\", sigma_value=2,text_ylabel=\"Temperature\")\n"
   ]
  },
  {
   "cell_type": "markdown",
   "metadata": {},
   "source": [
    "# Estatísticas Simples"
   ]
  },
  {
   "cell_type": "code",
   "execution_count": 12,
   "metadata": {},
   "outputs": [
    {
     "data": {
      "text/html": [
       "<div>\n",
       "<style scoped>\n",
       "    .dataframe tbody tr th:only-of-type {\n",
       "        vertical-align: middle;\n",
       "    }\n",
       "\n",
       "    .dataframe tbody tr th {\n",
       "        vertical-align: top;\n",
       "    }\n",
       "\n",
       "    .dataframe thead th {\n",
       "        text-align: right;\n",
       "    }\n",
       "</style>\n",
       "<table border=\"1\" class=\"dataframe\">\n",
       "  <thead>\n",
       "    <tr style=\"text-align: right;\">\n",
       "      <th></th>\n",
       "      <th>Data type</th>\n",
       "      <th>size</th>\n",
       "      <th>mean</th>\n",
       "      <th>SD</th>\n",
       "      <th>median</th>\n",
       "      <th>MAD</th>\n",
       "    </tr>\n",
       "  </thead>\n",
       "  <tbody>\n",
       "    <tr>\n",
       "      <th>0</th>\n",
       "      <td>Raw Data</td>\n",
       "      <td>42259</td>\n",
       "      <td>34.306298</td>\n",
       "      <td>33.289384</td>\n",
       "      <td>21.772</td>\n",
       "      <td>22.158344</td>\n",
       "    </tr>\n",
       "  </tbody>\n",
       "</table>\n",
       "</div>"
      ],
      "text/plain": [
       "  Data type   size       mean         SD  median        MAD\n",
       "0  Raw Data  42259  34.306298  33.289384  21.772  22.158344"
      ]
     },
     "execution_count": 12,
     "metadata": {},
     "output_type": "execute_result"
    }
   ],
   "source": [
    "dplot[dplot['Moteid']==s].shape\n",
    "# Passo 0\n",
    "sensor = s\n",
    "myDicInit = {\n",
    "    'Data type':['Raw Data'],\n",
    "    'size':[dplot[dplot['Moteid']==sensor].shape[0]], # Pegamos o shape dos dados brutos de dplot para cada sensor\n",
    "    'mean':dplot[dplot['Moteid']==sensor][:dplot.shape[0]]['Temperature'].mean(),\n",
    "    'SD':dplot[dplot['Moteid']==sensor][:dplot.shape[0]]['Temperature'].std(), \n",
    "    'median':dplot[dplot['Moteid']==sensor][:dplot.shape[0]]['Temperature'].median(),\n",
    "    'MAD':dplot[dplot['Moteid']==sensor][:dplot.shape[0]]['Temperature'].mad()  \n",
    "}\n",
    "\n",
    "df0 = pd.DataFrame(myDicInit)\n",
    "df0.head()\n"
   ]
  },
  {
   "cell_type": "code",
   "execution_count": 13,
   "metadata": {},
   "outputs": [
    {
     "data": {
      "text/html": [
       "<div>\n",
       "<style scoped>\n",
       "    .dataframe tbody tr th:only-of-type {\n",
       "        vertical-align: middle;\n",
       "    }\n",
       "\n",
       "    .dataframe tbody tr th {\n",
       "        vertical-align: top;\n",
       "    }\n",
       "\n",
       "    .dataframe thead th {\n",
       "        text-align: right;\n",
       "    }\n",
       "</style>\n",
       "<table border=\"1\" class=\"dataframe\">\n",
       "  <thead>\n",
       "    <tr style=\"text-align: right;\">\n",
       "      <th></th>\n",
       "      <th>Data type</th>\n",
       "      <th>size</th>\n",
       "      <th>mean</th>\n",
       "      <th>SD</th>\n",
       "      <th>median</th>\n",
       "      <th>MAD</th>\n",
       "    </tr>\n",
       "  </thead>\n",
       "  <tbody>\n",
       "    <tr>\n",
       "      <th>0</th>\n",
       "      <td>step 1 (BOR)</td>\n",
       "      <td>34098</td>\n",
       "      <td>21.08421</td>\n",
       "      <td>2.199068</td>\n",
       "      <td>21.0762</td>\n",
       "      <td>1.709392</td>\n",
       "    </tr>\n",
       "  </tbody>\n",
       "</table>\n",
       "</div>"
      ],
      "text/plain": [
       "      Data type   size      mean        SD   median       MAD\n",
       "0  step 1 (BOR)  34098  21.08421  2.199068  21.0762  1.709392"
      ]
     },
     "execution_count": 13,
     "metadata": {},
     "output_type": "execute_result"
    }
   ],
   "source": [
    "# Passo 1\n",
    "myDic = {\n",
    "    'Data type':['step 1 (BOR)'],\n",
    "    'size':[d.shape[0]], # d.shape[0] sensor\n",
    "    'mean':d[:d.shape[0]]['4'].mean(),\n",
    "    'SD':d[:d.shape[0]]['4'].std(), \n",
    "    'median':d[:d.shape[0]]['4'].median(),\n",
    "    'MAD':d[:d.shape[0]]['4'].mad()  \n",
    "}\n",
    "\n",
    "df = pd.DataFrame(myDic)\n",
    "df.head()\n"
   ]
  },
  {
   "cell_type": "code",
   "execution_count": 14,
   "metadata": {},
   "outputs": [
    {
     "name": "stdout",
     "output_type": "stream",
     "text": [
      "33985\n"
     ]
    },
    {
     "data": {
      "text/html": [
       "<div>\n",
       "<style scoped>\n",
       "    .dataframe tbody tr th:only-of-type {\n",
       "        vertical-align: middle;\n",
       "    }\n",
       "\n",
       "    .dataframe tbody tr th {\n",
       "        vertical-align: top;\n",
       "    }\n",
       "\n",
       "    .dataframe thead th {\n",
       "        text-align: right;\n",
       "    }\n",
       "</style>\n",
       "<table border=\"1\" class=\"dataframe\">\n",
       "  <thead>\n",
       "    <tr style=\"text-align: right;\">\n",
       "      <th></th>\n",
       "      <th>Data type</th>\n",
       "      <th>size</th>\n",
       "      <th>mean</th>\n",
       "      <th>SD</th>\n",
       "      <th>median</th>\n",
       "      <th>MAD</th>\n",
       "    </tr>\n",
       "  </thead>\n",
       "  <tbody>\n",
       "    <tr>\n",
       "      <th>0</th>\n",
       "      <td>step 2 (AOR</td>\n",
       "      <td>33985</td>\n",
       "      <td>21.082614</td>\n",
       "      <td>2.172151</td>\n",
       "      <td>21.0762</td>\n",
       "      <td>1.705193</td>\n",
       "    </tr>\n",
       "  </tbody>\n",
       "</table>\n",
       "</div>"
      ],
      "text/plain": [
       "     Data type   size       mean        SD   median       MAD\n",
       "0  step 2 (AOR  33985  21.082614  2.172151  21.0762  1.705193"
      ]
     },
     "execution_count": 14,
     "metadata": {},
     "output_type": "execute_result"
    }
   ],
   "source": [
    "    # Passo 2\n",
    "\n",
    "myDicResidualRemoved = {\n",
    "    'Data type':['step 2 (AOR'],\n",
    "    'size':[passoO.shape[0]],\n",
    "    'mean':passoO['4'].mean(),\n",
    "    'SD':passoO['4'].std(), \n",
    "    'median':passoO['4'].median(),\n",
    "    'MAD':passoO['4'].mad()  \n",
    "}\n",
    "\n",
    "dfResAOR = pd.DataFrame(myDicResidualRemoved)\n",
    "print(passoO.shape[0])\n",
    "dfResAOR.head()"
   ]
  },
  {
   "cell_type": "markdown",
   "metadata": {},
   "source": [
    "# Passo 3 - Esse passo é feito depois de ser gerado pelo scrip sx_sy_sz-FI "
   ]
  },
  {
   "cell_type": "code",
   "execution_count": 22,
   "metadata": {},
   "outputs": [
    {
     "name": "stdout",
     "output_type": "stream",
     "text": [
      "65536\n"
     ]
    },
    {
     "data": {
      "text/html": [
       "<div>\n",
       "<style scoped>\n",
       "    .dataframe tbody tr th:only-of-type {\n",
       "        vertical-align: middle;\n",
       "    }\n",
       "\n",
       "    .dataframe tbody tr th {\n",
       "        vertical-align: top;\n",
       "    }\n",
       "\n",
       "    .dataframe thead th {\n",
       "        text-align: right;\n",
       "    }\n",
       "</style>\n",
       "<table border=\"1\" class=\"dataframe\">\n",
       "  <thead>\n",
       "    <tr style=\"text-align: right;\">\n",
       "      <th></th>\n",
       "      <th>Data type</th>\n",
       "      <th>size</th>\n",
       "      <th>mean</th>\n",
       "      <th>SD</th>\n",
       "      <th>median</th>\n",
       "      <th>MAD</th>\n",
       "    </tr>\n",
       "  </thead>\n",
       "  <tbody>\n",
       "    <tr>\n",
       "      <th>0</th>\n",
       "      <td>step 3</td>\n",
       "      <td>65536</td>\n",
       "      <td>19.164431</td>\n",
       "      <td>2.530627</td>\n",
       "      <td>17.1</td>\n",
       "      <td>2.250194</td>\n",
       "    </tr>\n",
       "  </tbody>\n",
       "</table>\n",
       "</div>"
      ],
      "text/plain": [
       "  Data type   size       mean        SD  median       MAD\n",
       "0    step 3  65536  19.164431  2.530627    17.1  2.250194"
      ]
     },
     "execution_count": 22,
     "metadata": {},
     "output_type": "execute_result"
    }
   ],
   "source": [
    "# Passo 3 - Esse passo é feito depois de ser gerado pelo scrip s2_s1_s3-FI \n",
    "\n",
    "myDicFinalImputation = {\n",
    "    'Data type':['step 3'],\n",
    "    'size':[teste.shape[0]],\n",
    "    'mean':teste['4'].mean(),\n",
    "    'SD':teste['4'].std(), \n",
    "    'median':teste['4'].median(),\n",
    "    'MAD':teste['4'].mad()  \n",
    "}\n",
    "\n",
    "dfFinalI = pd.DataFrame(myDicFinalImputation)\n",
    "print(teste.shape[0])\n",
    "dfFinalI.head()"
   ]
  },
  {
   "cell_type": "code",
   "execution_count": 23,
   "metadata": {},
   "outputs": [
    {
     "name": "stdout",
     "output_type": "stream",
     "text": [
      "  Data type   size       mean         SD  median        MAD\n",
      "0  Raw Data  42259  34.306298  33.289384  21.772  22.158344\n",
      "      Data type   size      mean        SD   median       MAD\n",
      "0  step 1 (BOR)  34098  21.08421  2.199068  21.0762  1.709392\n",
      "     Data type   size       mean        SD   median       MAD\n",
      "0  step 2 (AOR  33985  21.082614  2.172151  21.0762  1.705193\n",
      "  Data type   size       mean        SD  median       MAD\n",
      "0    step 3  65536  19.164431  2.530627    17.1  2.250194\n"
     ]
    }
   ],
   "source": [
    "print( df0.head() )\n",
    "print( df.head() )\n",
    "print( dfResAOR.head() )\n",
    "print( dfFinalI.head() )"
   ]
  },
  {
   "cell_type": "markdown",
   "metadata": {},
   "source": [
    "##  Etapa para reconstruir as Épocas que estão faltando"
   ]
  },
  {
   "cell_type": "code",
   "execution_count": 16,
   "metadata": {},
   "outputs": [
    {
     "name": "stdout",
     "output_type": "stream",
     "text": [
      "31559\n",
      "65536 33977\n"
     ]
    }
   ],
   "source": [
    "indiceImput = []\n",
    "for i in range(65536):\n",
    "    indiceImput.append(i)\n",
    "np.max(indiceImput)\n",
    "passoOEp = passoO['2'].tolist()\n",
    "len(passoOEp)\n",
    "\n",
    "idInputEq = set(indiceImput)\n",
    "idInputNEq = set(passoOEp)\n",
    "resultIntersecEp = list( idInputEq - idInputNEq )\n",
    "\n",
    "print(len(resultIntersecEp)) # {4, 6, 10}\n",
    "\n",
    "print(len(idInputEq), len(idInputNEq))"
   ]
  },
  {
   "cell_type": "code",
   "execution_count": 17,
   "metadata": {},
   "outputs": [
    {
     "data": {
      "text/plain": [
       "((34098, 8), int,              1\n",
       " 2004-02-28  87)"
      ]
     },
     "execution_count": 17,
     "metadata": {},
     "output_type": "execute_result"
    }
   ],
   "source": [
    "# Create a time series of 2000 elements, one very five minutes starting on 1/1/2000\n",
    "time = pd.date_range('2004-02-28', periods=65536, freq='31s')\n",
    "\n",
    "# Create a pandas series with a random values between 0 and 100, using 'time' as the index\n",
    "series = pd.Series(np.random.randint(100, size=65536), index=time)\n",
    "# View the first few rows of the data\n",
    "series[0:3]\n",
    "# dfHora = series.to\n",
    "dfHora  =pd.DataFrame(series, columns=['1'])\n",
    "\n",
    "data.shape, type( len(resultIntersecEp) ), dfHora.head(1)"
   ]
  },
  {
   "cell_type": "code",
   "execution_count": 18,
   "metadata": {},
   "outputs": [
    {
     "name": "stdout",
     "output_type": "stream",
     "text": [
      "31559\n"
     ]
    }
   ],
   "source": [
    "# tamanho resultIntersecEp # CSV das épocas faltantes\n",
    "listofzeros = [0] * len(resultIntersecEp)\n",
    "\n",
    "#len(resultIntersecEp)\n",
    "myDicNewdf2 = {\n",
    "    '0':dplot[:len(resultIntersecEp)]['Date'],\n",
    "    '1':dplot[:len(resultIntersecEp)]['Time'],#data[:32828]['1']\n",
    "    '2':resultIntersecEp[:len(resultIntersecEp)],\n",
    "    '3':dplot[:len(resultIntersecEp)]['Moteid'], \n",
    "    '4':listofzeros,\n",
    "    '5':dplot[:len(resultIntersecEp)]['Humidity'],\n",
    "    '6':dplot[:len(resultIntersecEp)]['Light'],\n",
    "    '7':dplot[:len(resultIntersecEp)]['Voltage']  \n",
    "}\n",
    "\n",
    "dfOut = pd.DataFrame(myDicNewdf2)\n",
    "print(dfOut.shape[0])\n",
    "dfOut.to_csv('csvAllOutliers.csv', index=False)\n",
    "# dfOut.tail(10)\n"
   ]
  },
  {
   "cell_type": "markdown",
   "metadata": {},
   "source": [
    "# Gerando o csv para fazer reconstrução dos dados"
   ]
  },
  {
   "cell_type": "code",
   "execution_count": 20,
   "metadata": {},
   "outputs": [
    {
     "name": "stdout",
     "output_type": "stream",
     "text": [
      "(65544, 8)\n"
     ]
    }
   ],
   "source": [
    "# Gerando o csv para fazer reconstrução dos dados\n",
    "dfFinalStep = pd.concat([dfOut,passoO], sort='2', axis=0)\n",
    "dfFinalStep.sort_values(by = '2', inplace = True)\n",
    "\n",
    "# dfFinalStep.set_index('2', inplace=True)\n",
    "print(dfFinalStep.shape)\n",
    "\n",
    "dfFinalStep.tail(10)\n",
    "# 65536-65623\n",
    "dfFinalStep.to_csv('dfImputation.csv', index=False)"
   ]
  },
  {
   "cell_type": "markdown",
   "metadata": {},
   "source": [
    "# Depois de ter obtido o resultado do script joga o resultado aqui"
   ]
  },
  {
   "cell_type": "code",
   "execution_count": 21,
   "metadata": {},
   "outputs": [
    {
     "data": {
      "text/plain": [
       "((65536, 9), (65544, 8))"
      ]
     },
     "execution_count": 21,
     "metadata": {},
     "output_type": "execute_result"
    }
   ],
   "source": [
    "final= pd.read_csv('finalsensor.csv')\n",
    "teste = final.drop_duplicates(subset=['2'],keep='first', inplace=False)\n",
    "teste.shape, dfFinalStep.shape\n"
   ]
  }
 ],
 "metadata": {
  "celltoolbar": "Raw Cell Format",
  "kernelspec": {
   "display_name": "Python 3",
   "language": "python",
   "name": "python3"
  },
  "language_info": {
   "codemirror_mode": {
    "name": "ipython",
    "version": 3
   },
   "file_extension": ".py",
   "mimetype": "text/x-python",
   "name": "python",
   "nbconvert_exporter": "python",
   "pygments_lexer": "ipython3",
   "version": "3.6.5"
  }
 },
 "nbformat": 4,
 "nbformat_minor": 2
}
