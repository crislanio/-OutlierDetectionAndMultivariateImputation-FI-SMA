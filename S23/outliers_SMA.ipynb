{
 "cells": [
  {
   "cell_type": "code",
   "execution_count": 1,
   "metadata": {},
   "outputs": [],
   "source": [
    "import pandas as pd\n",
    "import numpy as np\n",
    "from pandas import Series as sr, DataFrame as df\n",
    "import matplotlib.pyplot as plt\n",
    "import seaborn as sns\n",
    "#style.use('seaborn')\n",
    "%matplotlib inline"
   ]
  },
  {
   "cell_type": "code",
   "execution_count": 2,
   "metadata": {},
   "outputs": [
    {
     "data": {
      "text/html": [
       "<div>\n",
       "<style scoped>\n",
       "    .dataframe tbody tr th:only-of-type {\n",
       "        vertical-align: middle;\n",
       "    }\n",
       "\n",
       "    .dataframe tbody tr th {\n",
       "        vertical-align: top;\n",
       "    }\n",
       "\n",
       "    .dataframe thead th {\n",
       "        text-align: right;\n",
       "    }\n",
       "</style>\n",
       "<table border=\"1\" class=\"dataframe\">\n",
       "  <thead>\n",
       "    <tr style=\"text-align: right;\">\n",
       "      <th></th>\n",
       "      <th>0</th>\n",
       "      <th>1</th>\n",
       "      <th>2</th>\n",
       "      <th>3</th>\n",
       "      <th>4</th>\n",
       "      <th>5</th>\n",
       "      <th>6</th>\n",
       "      <th>7</th>\n",
       "    </tr>\n",
       "  </thead>\n",
       "  <tbody>\n",
       "    <tr>\n",
       "      <th>0</th>\n",
       "      <td>2004-03-31</td>\n",
       "      <td>03:38:15.757551</td>\n",
       "      <td>2</td>\n",
       "      <td>1.0</td>\n",
       "      <td>122.1530</td>\n",
       "      <td>-3.91901</td>\n",
       "      <td>11.04</td>\n",
       "      <td>2.03397</td>\n",
       "    </tr>\n",
       "    <tr>\n",
       "      <th>1</th>\n",
       "      <td>2004-02-28</td>\n",
       "      <td>00:59:16.02785</td>\n",
       "      <td>3</td>\n",
       "      <td>1.0</td>\n",
       "      <td>19.9884</td>\n",
       "      <td>37.09330</td>\n",
       "      <td>45.08</td>\n",
       "      <td>2.69964</td>\n",
       "    </tr>\n",
       "    <tr>\n",
       "      <th>2</th>\n",
       "      <td>2004-02-28</td>\n",
       "      <td>01:03:16.33393</td>\n",
       "      <td>11</td>\n",
       "      <td>1.0</td>\n",
       "      <td>19.3024</td>\n",
       "      <td>38.46290</td>\n",
       "      <td>45.08</td>\n",
       "      <td>2.68742</td>\n",
       "    </tr>\n",
       "    <tr>\n",
       "      <th>3</th>\n",
       "      <td>2004-02-28</td>\n",
       "      <td>01:06:16.013453</td>\n",
       "      <td>17</td>\n",
       "      <td>1.0</td>\n",
       "      <td>19.1652</td>\n",
       "      <td>38.80390</td>\n",
       "      <td>45.08</td>\n",
       "      <td>2.68742</td>\n",
       "    </tr>\n",
       "    <tr>\n",
       "      <th>4</th>\n",
       "      <td>2004-02-28</td>\n",
       "      <td>01:06:46.778088</td>\n",
       "      <td>18</td>\n",
       "      <td>1.0</td>\n",
       "      <td>19.1750</td>\n",
       "      <td>38.83790</td>\n",
       "      <td>45.08</td>\n",
       "      <td>2.69964</td>\n",
       "    </tr>\n",
       "  </tbody>\n",
       "</table>\n",
       "</div>"
      ],
      "text/plain": [
       "            0                1   2    3         4         5      6        7\n",
       "0  2004-03-31  03:38:15.757551   2  1.0  122.1530  -3.91901  11.04  2.03397\n",
       "1  2004-02-28   00:59:16.02785   3  1.0   19.9884  37.09330  45.08  2.69964\n",
       "2  2004-02-28   01:03:16.33393  11  1.0   19.3024  38.46290  45.08  2.68742\n",
       "3  2004-02-28  01:06:16.013453  17  1.0   19.1652  38.80390  45.08  2.68742\n",
       "4  2004-02-28  01:06:46.778088  18  1.0   19.1750  38.83790  45.08  2.69964"
      ]
     },
     "execution_count": 2,
     "metadata": {},
     "output_type": "execute_result"
    }
   ],
   "source": [
    "data = pd.read_csv(\"../data.txt\", sep = ' ', header = None)\n",
    "data.head()"
   ]
  },
  {
   "cell_type": "code",
   "execution_count": 3,
   "metadata": {},
   "outputs": [
    {
     "data": {
      "text/plain": [
       "(2313682, 8)"
      ]
     },
     "execution_count": 3,
     "metadata": {},
     "output_type": "execute_result"
    }
   ],
   "source": [
    "data_column_names = [\"Date\", \"Time\", \"Epoch\", \"Moteid\", \"Temperature\", \"Humidity\", \"Light\", \"Voltage\"]\n",
    "dplot = pd.read_csv(\"../data.txt\", sep = ' ', names = data_column_names)\n",
    "dplot.shape"
   ]
  },
  {
   "cell_type": "code",
   "execution_count": 4,
   "metadata": {},
   "outputs": [
    {
     "data": {
      "text/html": [
       "<div>\n",
       "<style scoped>\n",
       "    .dataframe tbody tr th:only-of-type {\n",
       "        vertical-align: middle;\n",
       "    }\n",
       "\n",
       "    .dataframe tbody tr th {\n",
       "        vertical-align: top;\n",
       "    }\n",
       "\n",
       "    .dataframe thead th {\n",
       "        text-align: right;\n",
       "    }\n",
       "</style>\n",
       "<table border=\"1\" class=\"dataframe\">\n",
       "  <thead>\n",
       "    <tr style=\"text-align: right;\">\n",
       "      <th></th>\n",
       "      <th>0</th>\n",
       "      <th>1</th>\n",
       "      <th>2</th>\n",
       "      <th>3</th>\n",
       "      <th>4</th>\n",
       "      <th>5</th>\n",
       "      <th>6</th>\n",
       "      <th>7</th>\n",
       "    </tr>\n",
       "  </thead>\n",
       "  <tbody>\n",
       "    <tr>\n",
       "      <th>806525</th>\n",
       "      <td>2004-04-02</td>\n",
       "      <td>14:00:28.893529</td>\n",
       "      <td>2</td>\n",
       "      <td>23.0</td>\n",
       "      <td>-38.4000</td>\n",
       "      <td>23.3800</td>\n",
       "      <td>625.60</td>\n",
       "      <td>1.92207</td>\n",
       "    </tr>\n",
       "    <tr>\n",
       "      <th>806526</th>\n",
       "      <td>2004-02-28</td>\n",
       "      <td>00:59:16.521007</td>\n",
       "      <td>3</td>\n",
       "      <td>23.0</td>\n",
       "      <td>20.2432</td>\n",
       "      <td>36.3362</td>\n",
       "      <td>235.52</td>\n",
       "      <td>2.69964</td>\n",
       "    </tr>\n",
       "    <tr>\n",
       "      <th>806527</th>\n",
       "      <td>2004-04-02</td>\n",
       "      <td>14:01:33.462872</td>\n",
       "      <td>4</td>\n",
       "      <td>23.0</td>\n",
       "      <td>NaN</td>\n",
       "      <td>NaN</td>\n",
       "      <td>NaN</td>\n",
       "      <td>1.99973</td>\n",
       "    </tr>\n",
       "    <tr>\n",
       "      <th>806528</th>\n",
       "      <td>2004-02-28</td>\n",
       "      <td>01:00:16.420708</td>\n",
       "      <td>5</td>\n",
       "      <td>23.0</td>\n",
       "      <td>19.9884</td>\n",
       "      <td>36.7495</td>\n",
       "      <td>235.52</td>\n",
       "      <td>2.69964</td>\n",
       "    </tr>\n",
       "    <tr>\n",
       "      <th>806529</th>\n",
       "      <td>2004-04-02</td>\n",
       "      <td>14:02:45.145685</td>\n",
       "      <td>6</td>\n",
       "      <td>23.0</td>\n",
       "      <td>-38.4000</td>\n",
       "      <td>23.7085</td>\n",
       "      <td>625.60</td>\n",
       "      <td>1.92207</td>\n",
       "    </tr>\n",
       "  </tbody>\n",
       "</table>\n",
       "</div>"
      ],
      "text/plain": [
       "                 0                1  2     3        4        5       6  \\\n",
       "806525  2004-04-02  14:00:28.893529  2  23.0 -38.4000  23.3800  625.60   \n",
       "806526  2004-02-28  00:59:16.521007  3  23.0  20.2432  36.3362  235.52   \n",
       "806527  2004-04-02  14:01:33.462872  4  23.0      NaN      NaN     NaN   \n",
       "806528  2004-02-28  01:00:16.420708  5  23.0  19.9884  36.7495  235.52   \n",
       "806529  2004-04-02  14:02:45.145685  6  23.0 -38.4000  23.7085  625.60   \n",
       "\n",
       "              7  \n",
       "806525  1.92207  \n",
       "806526  2.69964  \n",
       "806527  1.99973  \n",
       "806528  2.69964  \n",
       "806529  1.92207  "
      ]
     },
     "execution_count": 4,
     "metadata": {},
     "output_type": "execute_result"
    }
   ],
   "source": [
    "s = 23.0\n",
    "data = data[data[3]==s]\n",
    "data.head()"
   ]
  },
  {
   "cell_type": "code",
   "execution_count": 5,
   "metadata": {},
   "outputs": [
    {
     "name": "stdout",
     "output_type": "stream",
     "text": [
      "(62440, 8) 24608\n",
      "                 0                1  2     3        4        5       6  \\\n",
      "806525  2004-04-02  14:00:28.893529  2  23.0 -38.4000  23.3800  625.60   \n",
      "806526  2004-02-28  00:59:16.521007  3  23.0  20.2432  36.3362  235.52   \n",
      "806527  2004-04-02  14:01:33.462872  4  23.0      NaN      NaN     NaN   \n",
      "806528  2004-02-28  01:00:16.420708  5  23.0  19.9884  36.7495  235.52   \n",
      "806529  2004-04-02  14:02:45.145685  6  23.0 -38.4000  23.7085  625.60   \n",
      "\n",
      "              7  \n",
      "806525  1.92207  \n",
      "806526  2.69964  \n",
      "806527  1.99973  \n",
      "806528  2.69964  \n",
      "806529  1.92207  \n",
      "(62440, 8)\n"
     ]
    }
   ],
   "source": [
    "# print(S1df.shape)\n",
    "outliersILista = []\n",
    "outliersIListaV = []\n",
    "for i, row in data.iterrows():\n",
    "    if row[4] >=26.2 :\n",
    "        outliersILista.append(i)\n",
    "        outliersIListaV.append(row[4])\n",
    "print(data.shape, len(outliersILista))\n",
    "# Removendo outliers no sensor\n",
    "passo3= data.copy()\n",
    "print(passo3.head())\n",
    "print(passo3.shape)"
   ]
  },
  {
   "cell_type": "code",
   "execution_count": 6,
   "metadata": {},
   "outputs": [
    {
     "name": "stdout",
     "output_type": "stream",
     "text": [
      "(37832, 8)\n",
      "23.0 \n",
      "             0                1  2     3        4        5       6        7\n",
      "0  2004-04-02  14:00:28.893529  2  23.0 -38.4000  23.3800  625.60  1.92207\n",
      "1  2004-02-28  00:59:16.521007  3  23.0  20.2432  36.3362  235.52  2.69964\n",
      "2  2004-04-02  14:01:33.462872  4  23.0      NaN      NaN     NaN  1.99973\n",
      "3  2004-02-28  01:00:16.420708  5  23.0  19.9884  36.7495  235.52  2.69964\n",
      "4  2004-04-02  14:02:45.145685  6  23.0 -38.4000  23.7085  625.60  1.92207\n",
      "--------------------------------\n"
     ]
    }
   ],
   "source": [
    "passo3= passo3.drop(outliersILista)\n",
    "print(passo3.shape)\n",
    "passo3.to_csv('sensor.csv')\n",
    "data = pd.read_csv(\"sensor.csv\")\n",
    "data.shape\n",
    "data.drop(['Unnamed: 0'], axis=1,inplace=True)\n",
    "# data.head(1)\n",
    "for key,d in data[:data.shape[0]].groupby('3'):\n",
    "    print(key,\"\\n\",d.head())\n",
    "    print(\"--------------------------------\")"
   ]
  },
  {
   "cell_type": "code",
   "execution_count": 8,
   "metadata": {},
   "outputs": [
    {
     "data": {
      "text/plain": [
       "<matplotlib.axes._subplots.AxesSubplot at 0x24d0b08f6a0>"
      ]
     },
     "execution_count": 8,
     "metadata": {},
     "output_type": "execute_result"
    },
    {
     "data": {
      "image/png": "[encoded data removed]",
      "text/plain": [
       "<Figure size 1080x360 with 1 Axes>"
      ]
     },
     "metadata": {},
     "output_type": "display_data"
    }
   ],
   "source": [
    "plt.figure(figsize = (15,5))\n",
    "data[:data.shape[0]]['4'].plot()"
   ]
  },
  {
   "cell_type": "code",
   "execution_count": 7,
   "metadata": {},
   "outputs": [
    {
     "data": {
      "text/plain": [
       "((37832, 8),\n",
       "              0                1   2     3     4        5      6        7\n",
       " 6   2004-04-02  14:05:07.590323  10  23.0 -38.4  23.8908  625.6  1.92831\n",
       " 7   2004-04-02  14:06:12.172903  12  23.0   NaN      NaN    NaN  2.00649\n",
       " 8   2004-04-02  14:06:47.636151  13  23.0 -38.4  23.7814  625.6  1.92831\n",
       " 11  2004-04-02  14:44:58.171915  21  23.0   NaN      NaN    NaN  2.01329\n",
       " 21  2004-04-02  15:32:49.628609  33  23.0   NaN      NaN    NaN  1.99973)"
      ]
     },
     "execution_count": 7,
     "metadata": {},
     "output_type": "execute_result"
    }
   ],
   "source": [
    "for key, d in data[:data.shape[0]].groupby('3'):\n",
    "    break\n",
    "    d.head()\n",
    "\n",
    "d = d.sort_values(['0','1'],ascending = [1,1])\n",
    "d.shape, (d.tail())"
   ]
  },
  {
   "cell_type": "code",
   "execution_count": 8,
   "metadata": {},
   "outputs": [
    {
     "data": {
      "text/plain": [
       "<seaborn.axisgrid.FacetGrid at 0x1202fd25198>"
      ]
     },
     "execution_count": 8,
     "metadata": {},
     "output_type": "execute_result"
    },
    {
     "data": {
      "image/png": "[encoded data removed]",
      "text/plain": [
       "<Figure size 2304x576 with 1 Axes>"
      ]
     },
     "metadata": {},
     "output_type": "display_data"
    }
   ],
   "source": [
    "#plt.figure(figsize = (20,2))\n",
    "sns.factorplot(x='0', y = '4', data = d, size = 8, aspect = 4)"
   ]
  },
  {
   "cell_type": "code",
   "execution_count": 9,
   "metadata": {
    "scrolled": true
   },
   "outputs": [
    {
     "data": {
      "image/png": "[encoded data removed]",
      "text/plain": [
       "<Figure size 1080x576 with 1 Axes>"
      ]
     },
     "metadata": {},
     "output_type": "display_data"
    }
   ],
   "source": [
    "from itertools import count\n",
    "import matplotlib.pyplot as plt\n",
    "from numpy import linspace, loadtxt, ones, convolve\n",
    "import numpy as np\n",
    "import pandas as pd\n",
    "import collections\n",
    "from random import randint\n",
    "from matplotlib import style\n",
    "%matplotlib inline\n",
    "def moving_average(data, window_size):\n",
    "\n",
    "    window = np.ones(int(window_size))/float(window_size)\n",
    "    return np.convolve(data, window, 'same')\n",
    "\n",
    "\n",
    "def explain_anomalies(y, window_size, sigma=1.0):\n",
    "\n",
    "    avg = moving_average(y, window_size).tolist()\n",
    "    residual = y - avg\n",
    "    # Calculate the variation in the distribution of the residual\n",
    "    std = np.std(residual)\n",
    "    return {'standard_deviation': round(std, 2),\n",
    "            'anomalies_dict': collections.OrderedDict([(index, y_i) for\n",
    "                                                       index, y_i, avg_i in zip(count(), y, avg)\n",
    "              if (y_i > avg_i + (sigma*std)) | (y_i < avg_i - (sigma*std))])}\n",
    "\n",
    "# This function is repsonsible for displaying how the function performs on the given dataset.\n",
    "def plot_results(x, y, window_size, sigma_value=1,\n",
    "                 text_xlabel=\"X Axis\", text_ylabel=\"Y Axis\", applying_rolling_std=False):\n",
    "\n",
    "    plt.figure(figsize=(15, 8))\n",
    "    plt.plot(x, y, \"k.\")\n",
    "    y_av = moving_average(y, window_size)\n",
    "    plt.plot(x, y_av, color='gray')\n",
    "    plt.xlim(0, 30000)\n",
    "    plt.xlabel(text_xlabel)\n",
    "    plt.ylabel(text_ylabel)\n",
    "\n",
    "    # Query for the anomalies and plot the same\n",
    "    events = {}\n",
    "    \n",
    "    events = explain_anomalies(y, window_size=window_size, sigma=sigma_value)\n",
    "\n",
    "    x_anomaly = np.fromiter(events['anomalies_dict'].keys(), dtype=int, count=len(events['anomalies_dict']))\n",
    "    y_anomaly = np.fromiter(events['anomalies_dict'].values(), dtype=float,\n",
    "                                            count=len(events['anomalies_dict']))\n",
    "    plt.plot(x_anomaly, y_anomaly, \"r*\")\n",
    "    #print(x_anomaly)\n",
    "\n",
    "    # add grid and lines and enable the plot\n",
    "    plt.grid(True)\n",
    "    plt.show()\n",
    "\n",
    "# This function is repsonsible for displaying how the function performs on the given dataset.\n",
    "def plot_results2(x, y, window_size, sigma_value=1,\n",
    "                 text_xlabel=\"X Axis\", text_ylabel=\"Y Axis\", applying_rolling_std=False):\n",
    "\n",
    "    plt.figure(figsize=(15, 8))\n",
    "    plt.plot(x, y, \"k.\")\n",
    "    y_av = moving_average(y, window_size)\n",
    "    plt.plot(x, y_av, color='gray')\n",
    "    plt.xlim(0, 30000)\n",
    "    plt.xlabel(text_xlabel)\n",
    "    plt.ylabel(text_ylabel)\n",
    "\n",
    "    # Query for the anomalies and plot the same\n",
    "    events = {}\n",
    "    if applying_rolling_std:\n",
    "        events = explain_anomalies_rolling_std(y, window_size=window_size, sigma=sigma_value)\n",
    "    else:\n",
    "        events = explain_anomalies(y, window_size=window_size, sigma=sigma_value)\n",
    "\n",
    "    x_anomaly = np.fromiter(events['anomalies_dict'].keys(), dtype=int, count=len(events['anomalies_dict']))\n",
    "    y_anomaly = np.fromiter(events['anomalies_dict'].values(), dtype=float,\n",
    "                                            count=len(events['anomalies_dict']))\n",
    "#     plt.plot(x_anomaly, y_anomaly, )\n",
    "    #print(x_anomaly)\n",
    "\n",
    "    # add grid and lines and enable the plot\n",
    "    plt.grid(True)\n",
    "    plt.show()\n",
    "\n",
    "\n",
    "# 4. Lets play with the functions\n",
    "x = data[:data.shape[0]]['2']\n",
    "Y = data[:data.shape[0]]['4']\n",
    "\n",
    "# plot the results\n",
    "plot_results(x, y=Y, window_size=10, text_xlabel=\"Date\", sigma_value=2,text_ylabel=\"Temperature\")\n",
    "\n"
   ]
  },
  {
   "cell_type": "code",
   "execution_count": 10,
   "metadata": {},
   "outputs": [
    {
     "data": {
      "image/png": "[encoded data removed]",
      "text/plain": [
       "<Figure size 1080x576 with 1 Axes>"
      ]
     },
     "metadata": {},
     "output_type": "display_data"
    }
   ],
   "source": [
    "x = d[:d.shape[0]]['2']\n",
    "Y = d[:d.shape[0]]['4']\n",
    "\n",
    "plot_results2(x, y=Y, window_size=10, text_xlabel=\"Date\", sigma_value=2,text_ylabel=\"Temperature\")"
   ]
  },
  {
   "cell_type": "code",
   "execution_count": 11,
   "metadata": {},
   "outputs": [
    {
     "name": "stdout",
     "output_type": "stream",
     "text": [
      "43\n"
     ]
    },
    {
     "data": {
      "text/plain": [
       "array([    0,     1,     2,     3,     4,  7209,  7213,  7216, 17527,\n",
       "       26578, 26579, 26580, 26581, 26600, 26618, 26636, 35955, 37666,\n",
       "       37781, 37782, 37783, 37784, 37785, 37786, 37787, 37788, 37789,\n",
       "       37798, 37799, 37800, 37801, 37802, 37803, 37804, 37805, 37806,\n",
       "       37807, 37808, 37809, 37810, 37811, 37812, 37814])"
      ]
     },
     "execution_count": 11,
     "metadata": {},
     "output_type": "execute_result"
    }
   ],
   "source": [
    "def final_results(x, y, window_size, sigma_value=1,\n",
    "                 text_xlabel=\"X Axis\", text_ylabel=\"Y Axis\", applying_rolling_std=False):\n",
    "    y_av = moving_average(y, window_size)\n",
    "\n",
    "    events = {}\n",
    "    events = explain_anomalies(y, window_size=window_size, sigma=sigma_value)\n",
    "\n",
    "    \n",
    "    x_anomaly = np.fromiter(events['anomalies_dict'].keys(), dtype=int, count=len(events['anomalies_dict']))\n",
    "    y_anomaly = np.fromiter(events['anomalies_dict'].values(), dtype=float,\n",
    "                                            count=len(events['anomalies_dict']))\n",
    "    print(len(x_anomaly))\n",
    "    return x_anomaly\n",
    "\n",
    "x = d[:d.shape[0]]['2']\n",
    "Y = d[:d.shape[0]]['4']\n",
    "\n",
    "outliersIndices = final_results(x, y=Y, window_size=10, text_xlabel=\"2\", sigma_value=2,text_ylabel=\"4\")\n",
    "outliersIndices"
   ]
  },
  {
   "cell_type": "code",
   "execution_count": 12,
   "metadata": {},
   "outputs": [
    {
     "name": "stdout",
     "output_type": "stream",
     "text": [
      "(37832, 8)\n",
      "(37789, 8)\n"
     ]
    }
   ],
   "source": [
    "## Checando e removendo outliers no step 3.\n",
    "passoO= d[:d.shape[0]].copy()\n",
    "print(passoO.shape)\n",
    "passoO= passoO.drop(passoO.index[outliersIndices])\n",
    "print(passoO.shape)"
   ]
  },
  {
   "cell_type": "code",
   "execution_count": 13,
   "metadata": {},
   "outputs": [
    {
     "name": "stdout",
     "output_type": "stream",
     "text": [
      "43\n"
     ]
    },
    {
     "data": {
      "image/png": "[encoded data removed]",
      "text/plain": [
       "<Figure size 1080x576 with 1 Axes>"
      ]
     },
     "metadata": {},
     "output_type": "display_data"
    }
   ],
   "source": [
    "def plot_resultsFinal(x, y, window_size, sigma_value=1,\n",
    "                 text_xlabel=\"X Axis\", text_ylabel=\"Y Axis\", applying_rolling_std=False):\n",
    "   \n",
    "    plt.figure(figsize=(15, 8))\n",
    "    plt.plot(x, y, \"k.\")\n",
    "    y_av = moving_average(y, window_size)\n",
    "    plt.plot(x, y_av, color='green')\n",
    "    plt.xlim(0, 30000)\n",
    "    plt.xlabel(text_xlabel)\n",
    "    plt.ylabel(text_ylabel)\n",
    "\n",
    "    # Query for the anomalies and plot the same\n",
    "    events = {}\n",
    "    events = explain_anomalies(y, window_size=window_size, sigma=sigma_value)\n",
    "\n",
    "    \n",
    "    \n",
    "    x_anomaly = np.fromiter(events['anomalies_dict'].keys(), dtype=int, count=len(events['anomalies_dict']))\n",
    "    y_anomaly = np.fromiter(events['anomalies_dict'].values(), dtype=float,\n",
    "                                            count=len(events['anomalies_dict']))\n",
    "#     plt.plot(x_anomaly, y_anomaly, \"r*\")\n",
    "# #     print(len(x_anomaly), x_anomaly)\n",
    "    print(len(x_anomaly))\n",
    "\n",
    "    \n",
    "    # add grid and lines and enable the plot\n",
    "    plt.grid(True)\n",
    "    plt.show()  \n",
    "def plot_resultsAOR(x, y, window_size, sigma_value=1,\n",
    "                 text_xlabel=\"X Axis\", text_ylabel=\"Y Axis\", applying_rolling_std=False):\n",
    "   \n",
    "    plt.figure(figsize=(15, 8))\n",
    "    plt.plot(x, y, \"k.\")\n",
    "    y_av = moving_average(y, window_size)\n",
    "    plt.plot(x, y_av, color='green')\n",
    "    plt.xlim(0, 30000)\n",
    "    plt.xlabel(text_xlabel)\n",
    "    plt.ylabel(text_ylabel)\n",
    "\n",
    "    # Query for the anomalies and plot the same\n",
    "    events = {}\n",
    "    events = explain_anomalies(y, window_size=window_size, sigma=sigma_value)\n",
    "\n",
    "    \n",
    "    \n",
    "    x_anomaly = np.fromiter(events['anomalies_dict'].keys(), dtype=int, count=len(events['anomalies_dict']))\n",
    "    y_anomaly = np.fromiter(events['anomalies_dict'].values(), dtype=float,\n",
    "                                            count=len(events['anomalies_dict']))\n",
    "#     plt.plot(x_anomaly, y_anomaly, \"r*\")\n",
    "# #     print(len(x_anomaly), x_anomaly)\n",
    "    print(len(x_anomaly))\n",
    "\n",
    "    \n",
    "    # add grid and lines and enable the plot\n",
    "    plt.grid(True)\n",
    "    plt.show()   \n",
    "# Step 3 COmplete Antes de remover outliers\n",
    "\n",
    "xF = d[:d.shape[0]]['2']\n",
    "YF = d[:d.shape[0]]['4']\n",
    "\n",
    "# plot residual\n",
    "plot_resultsAOR(xF, y=YF, window_size=10, text_xlabel=\"Date\", sigma_value=2,text_ylabel=\"Temperature\")"
   ]
  },
  {
   "cell_type": "markdown",
   "metadata": {},
   "source": [
    "# Depois de ter os dados reconstruídos - verificamos a série temporal"
   ]
  },
  {
   "cell_type": "code",
   "execution_count": 27,
   "metadata": {},
   "outputs": [
    {
     "name": "stdout",
     "output_type": "stream",
     "text": [
      "4394\n"
     ]
    },
    {
     "data": {
      "image/png": "[encoded data removed]",
      "text/plain": [
       "<Figure size 1080x576 with 1 Axes>"
      ]
     },
     "metadata": {},
     "output_type": "display_data"
    }
   ],
   "source": [
    "# Final reconstrução - passo 3 # Executar depois de gerar o dataframe teste no scrip do sensor\n",
    "xF = teste['2']\n",
    "YF = teste['4']\n",
    "\n",
    "plot_resultsFinal(xF, y=YF, window_size=10, text_xlabel=\"Date\", sigma_value=2,text_ylabel=\"Temperature\")\n"
   ]
  },
  {
   "cell_type": "markdown",
   "metadata": {},
   "source": [
    "# Estatísticas Simples"
   ]
  },
  {
   "cell_type": "code",
   "execution_count": 15,
   "metadata": {},
   "outputs": [
    {
     "data": {
      "text/html": [
       "<div>\n",
       "<style scoped>\n",
       "    .dataframe tbody tr th:only-of-type {\n",
       "        vertical-align: middle;\n",
       "    }\n",
       "\n",
       "    .dataframe tbody tr th {\n",
       "        vertical-align: top;\n",
       "    }\n",
       "\n",
       "    .dataframe thead th {\n",
       "        text-align: right;\n",
       "    }\n",
       "</style>\n",
       "<table border=\"1\" class=\"dataframe\">\n",
       "  <thead>\n",
       "    <tr style=\"text-align: right;\">\n",
       "      <th></th>\n",
       "      <th>Data type</th>\n",
       "      <th>size</th>\n",
       "      <th>mean</th>\n",
       "      <th>SD</th>\n",
       "      <th>median</th>\n",
       "      <th>MAD</th>\n",
       "    </tr>\n",
       "  </thead>\n",
       "  <tbody>\n",
       "    <tr>\n",
       "      <th>0</th>\n",
       "      <td>Raw Data</td>\n",
       "      <td>62440</td>\n",
       "      <td>44.647866</td>\n",
       "      <td>40.318131</td>\n",
       "      <td>24.1779</td>\n",
       "      <td>32.960926</td>\n",
       "    </tr>\n",
       "  </tbody>\n",
       "</table>\n",
       "</div>"
      ],
      "text/plain": [
       "  Data type   size       mean         SD   median        MAD\n",
       "0  Raw Data  62440  44.647866  40.318131  24.1779  32.960926"
      ]
     },
     "execution_count": 15,
     "metadata": {},
     "output_type": "execute_result"
    }
   ],
   "source": [
    "dplot[dplot['Moteid']==s].shape\n",
    "# Passo 0\n",
    "sensor = s\n",
    "myDicInit = {\n",
    "    'Data type':['Raw Data'],\n",
    "    'size':[dplot[dplot['Moteid']==sensor].shape[0]], # Pegamos o shape dos dados brutos de dplot para cada sensor\n",
    "    'mean':dplot[dplot['Moteid']==sensor][:dplot.shape[0]]['Temperature'].mean(),\n",
    "    'SD':dplot[dplot['Moteid']==sensor][:dplot.shape[0]]['Temperature'].std(), \n",
    "    'median':dplot[dplot['Moteid']==sensor][:dplot.shape[0]]['Temperature'].median(),\n",
    "    'MAD':dplot[dplot['Moteid']==sensor][:dplot.shape[0]]['Temperature'].mad()  \n",
    "}\n",
    "\n",
    "df0 = pd.DataFrame(myDicInit)\n",
    "df0.head()\n"
   ]
  },
  {
   "cell_type": "code",
   "execution_count": 16,
   "metadata": {},
   "outputs": [
    {
     "data": {
      "text/html": [
       "<div>\n",
       "<style scoped>\n",
       "    .dataframe tbody tr th:only-of-type {\n",
       "        vertical-align: middle;\n",
       "    }\n",
       "\n",
       "    .dataframe tbody tr th {\n",
       "        vertical-align: top;\n",
       "    }\n",
       "\n",
       "    .dataframe thead th {\n",
       "        text-align: right;\n",
       "    }\n",
       "</style>\n",
       "<table border=\"1\" class=\"dataframe\">\n",
       "  <thead>\n",
       "    <tr style=\"text-align: right;\">\n",
       "      <th></th>\n",
       "      <th>Data type</th>\n",
       "      <th>size</th>\n",
       "      <th>mean</th>\n",
       "      <th>SD</th>\n",
       "      <th>median</th>\n",
       "      <th>MAD</th>\n",
       "    </tr>\n",
       "  </thead>\n",
       "  <tbody>\n",
       "    <tr>\n",
       "      <th>0</th>\n",
       "      <td>step 1 (BOR)</td>\n",
       "      <td>37832</td>\n",
       "      <td>21.8248</td>\n",
       "      <td>2.940081</td>\n",
       "      <td>21.9092</td>\n",
       "      <td>1.867724</td>\n",
       "    </tr>\n",
       "  </tbody>\n",
       "</table>\n",
       "</div>"
      ],
      "text/plain": [
       "      Data type   size     mean        SD   median       MAD\n",
       "0  step 1 (BOR)  37832  21.8248  2.940081  21.9092  1.867724"
      ]
     },
     "execution_count": 16,
     "metadata": {},
     "output_type": "execute_result"
    }
   ],
   "source": [
    "# Passo 1\n",
    "myDic = {\n",
    "    'Data type':['step 1 (BOR)'],\n",
    "    'size':[d.shape[0]], # d.shape[0] sensor\n",
    "    'mean':d[:d.shape[0]]['4'].mean(),\n",
    "    'SD':d[:d.shape[0]]['4'].std(), \n",
    "    'median':d[:d.shape[0]]['4'].median(),\n",
    "    'MAD':d[:d.shape[0]]['4'].mad()  \n",
    "}\n",
    "\n",
    "df = pd.DataFrame(myDic)\n",
    "df.head()\n"
   ]
  },
  {
   "cell_type": "code",
   "execution_count": 18,
   "metadata": {},
   "outputs": [
    {
     "name": "stdout",
     "output_type": "stream",
     "text": [
      "37789\n"
     ]
    },
    {
     "data": {
      "text/html": [
       "<div>\n",
       "<style scoped>\n",
       "    .dataframe tbody tr th:only-of-type {\n",
       "        vertical-align: middle;\n",
       "    }\n",
       "\n",
       "    .dataframe tbody tr th {\n",
       "        vertical-align: top;\n",
       "    }\n",
       "\n",
       "    .dataframe thead th {\n",
       "        text-align: right;\n",
       "    }\n",
       "</style>\n",
       "<table border=\"1\" class=\"dataframe\">\n",
       "  <thead>\n",
       "    <tr style=\"text-align: right;\">\n",
       "      <th></th>\n",
       "      <th>Data type</th>\n",
       "      <th>size</th>\n",
       "      <th>mean</th>\n",
       "      <th>SD</th>\n",
       "      <th>median</th>\n",
       "      <th>MAD</th>\n",
       "    </tr>\n",
       "  </thead>\n",
       "  <tbody>\n",
       "    <tr>\n",
       "      <th>0</th>\n",
       "      <td>step 2 (AOR</td>\n",
       "      <td>37789</td>\n",
       "      <td>21.855126</td>\n",
       "      <td>2.626079</td>\n",
       "      <td>21.9092</td>\n",
       "      <td>1.837242</td>\n",
       "    </tr>\n",
       "  </tbody>\n",
       "</table>\n",
       "</div>"
      ],
      "text/plain": [
       "     Data type   size       mean        SD   median       MAD\n",
       "0  step 2 (AOR  37789  21.855126  2.626079  21.9092  1.837242"
      ]
     },
     "execution_count": 18,
     "metadata": {},
     "output_type": "execute_result"
    }
   ],
   "source": [
    "# Passo 2\n",
    "\n",
    "myDicResidualRemoved = {\n",
    "    'Data type':['step 2 (AOR'],\n",
    "    'size':[passoO.shape[0]],\n",
    "    'mean':passoO['4'].mean(),\n",
    "    'SD':passoO['4'].std(), \n",
    "    'median':passoO['4'].median(),\n",
    "    'MAD':passoO['4'].mad()  \n",
    "}\n",
    "\n",
    "dfResAOR = pd.DataFrame(myDicResidualRemoved)\n",
    "print(passoO.shape[0])\n",
    "dfResAOR.head()"
   ]
  },
  {
   "cell_type": "markdown",
   "metadata": {},
   "source": [
    "# Passo 3 - Esse passo é feito depois de ser gerado pelo scrip sx_sy_sz-FI "
   ]
  },
  {
   "cell_type": "code",
   "execution_count": 25,
   "metadata": {},
   "outputs": [
    {
     "name": "stdout",
     "output_type": "stream",
     "text": [
      "65536\n"
     ]
    },
    {
     "data": {
      "text/html": [
       "<div>\n",
       "<style scoped>\n",
       "    .dataframe tbody tr th:only-of-type {\n",
       "        vertical-align: middle;\n",
       "    }\n",
       "\n",
       "    .dataframe tbody tr th {\n",
       "        vertical-align: top;\n",
       "    }\n",
       "\n",
       "    .dataframe thead th {\n",
       "        text-align: right;\n",
       "    }\n",
       "</style>\n",
       "<table border=\"1\" class=\"dataframe\">\n",
       "  <thead>\n",
       "    <tr style=\"text-align: right;\">\n",
       "      <th></th>\n",
       "      <th>Data type</th>\n",
       "      <th>size</th>\n",
       "      <th>mean</th>\n",
       "      <th>SD</th>\n",
       "      <th>median</th>\n",
       "      <th>MAD</th>\n",
       "    </tr>\n",
       "  </thead>\n",
       "  <tbody>\n",
       "    <tr>\n",
       "      <th>0</th>\n",
       "      <td>step 3</td>\n",
       "      <td>65536</td>\n",
       "      <td>19.832504</td>\n",
       "      <td>3.079925</td>\n",
       "      <td>19.1946</td>\n",
       "      <td>2.645573</td>\n",
       "    </tr>\n",
       "  </tbody>\n",
       "</table>\n",
       "</div>"
      ],
      "text/plain": [
       "  Data type   size       mean        SD   median       MAD\n",
       "0    step 3  65536  19.832504  3.079925  19.1946  2.645573"
      ]
     },
     "execution_count": 25,
     "metadata": {},
     "output_type": "execute_result"
    }
   ],
   "source": [
    "# Passo 3 - Esse passo é feito depois de ser gerado pelo scrip s2_s1_s3-FI \n",
    "\n",
    "myDicFinalImputation = {\n",
    "    'Data type':['step 3'],\n",
    "    'size':[teste.shape[0]],\n",
    "    'mean':teste['4'].mean(),\n",
    "    'SD':teste['4'].std(), \n",
    "    'median':teste['4'].median(),\n",
    "    'MAD':teste['4'].mad()  \n",
    "}\n",
    "\n",
    "dfFinalI = pd.DataFrame(myDicFinalImputation)\n",
    "print(teste.shape[0])\n",
    "dfFinalI.head()"
   ]
  },
  {
   "cell_type": "code",
   "execution_count": 26,
   "metadata": {},
   "outputs": [
    {
     "name": "stdout",
     "output_type": "stream",
     "text": [
      "  Data type   size       mean         SD   median        MAD\n",
      "0  Raw Data  62440  44.647866  40.318131  24.1779  32.960926\n",
      "      Data type   size     mean        SD   median       MAD\n",
      "0  step 1 (BOR)  37832  21.8248  2.940081  21.9092  1.867724\n",
      "     Data type   size       mean        SD   median       MAD\n",
      "0  step 2 (AOR  37789  21.855126  2.626079  21.9092  1.837242\n",
      "  Data type   size       mean        SD   median       MAD\n",
      "0    step 3  65536  19.832504  3.079925  19.1946  2.645573\n"
     ]
    }
   ],
   "source": [
    "print( df0.head() )\n",
    "print( df.head() )\n",
    "print( dfResAOR.head() )\n",
    "print( dfFinalI.head() )"
   ]
  },
  {
   "cell_type": "markdown",
   "metadata": {},
   "source": [
    "##  Etapa para reconstruir as Épocas que estão faltando"
   ]
  },
  {
   "cell_type": "code",
   "execution_count": 20,
   "metadata": {},
   "outputs": [
    {
     "name": "stdout",
     "output_type": "stream",
     "text": [
      "27840\n",
      "65536 37696\n"
     ]
    }
   ],
   "source": [
    "indiceImput = []\n",
    "for i in range(65536):\n",
    "    indiceImput.append(i)\n",
    "np.max(indiceImput)\n",
    "passoOEp = passoO['2'].tolist()\n",
    "len(passoOEp)\n",
    "\n",
    "idInputEq = set(indiceImput)\n",
    "idInputNEq = set(passoOEp)\n",
    "resultIntersecEp = list( idInputEq - idInputNEq )\n",
    "\n",
    "print(len(resultIntersecEp)) # {4, 6, 10}\n",
    "\n",
    "print(len(idInputEq), len(idInputNEq))\n",
    "# print('min max ',np.min(idInputEq), np.max(idInputNEq) )    "
   ]
  },
  {
   "cell_type": "code",
   "execution_count": 21,
   "metadata": {},
   "outputs": [
    {
     "data": {
      "text/plain": [
       "((37832, 8), int,              1\n",
       " 2004-02-28  29)"
      ]
     },
     "execution_count": 21,
     "metadata": {},
     "output_type": "execute_result"
    }
   ],
   "source": [
    "# Create a time series of 2000 elements, one very five minutes starting on 1/1/2000\n",
    "time = pd.date_range('2004-02-28', periods=65536, freq='31s')\n",
    "\n",
    "# Create a pandas series with a random values between 0 and 100, using 'time' as the index\n",
    "series = pd.Series(np.random.randint(100, size=65536), index=time)\n",
    "# View the first few rows of the data\n",
    "series[0:3]\n",
    "# dfHora = series.to\n",
    "dfHora  =pd.DataFrame(series, columns=['1'])\n",
    "\n",
    "data.shape, type( len(resultIntersecEp) ), dfHora.head(1)"
   ]
  },
  {
   "cell_type": "code",
   "execution_count": 22,
   "metadata": {},
   "outputs": [
    {
     "name": "stdout",
     "output_type": "stream",
     "text": [
      "27840\n"
     ]
    },
    {
     "data": {
      "text/html": [
       "<div>\n",
       "<style scoped>\n",
       "    .dataframe tbody tr th:only-of-type {\n",
       "        vertical-align: middle;\n",
       "    }\n",
       "\n",
       "    .dataframe tbody tr th {\n",
       "        vertical-align: top;\n",
       "    }\n",
       "\n",
       "    .dataframe thead th {\n",
       "        text-align: right;\n",
       "    }\n",
       "</style>\n",
       "<table border=\"1\" class=\"dataframe\">\n",
       "  <thead>\n",
       "    <tr style=\"text-align: right;\">\n",
       "      <th></th>\n",
       "      <th>0</th>\n",
       "      <th>1</th>\n",
       "      <th>2</th>\n",
       "      <th>3</th>\n",
       "      <th>4</th>\n",
       "      <th>5</th>\n",
       "      <th>6</th>\n",
       "      <th>7</th>\n",
       "    </tr>\n",
       "  </thead>\n",
       "  <tbody>\n",
       "    <tr>\n",
       "      <th>27830</th>\n",
       "      <td>2004-03-12</td>\n",
       "      <td>23:53:10.23256</td>\n",
       "      <td>65414</td>\n",
       "      <td>1.0</td>\n",
       "      <td>0</td>\n",
       "      <td>43.3858</td>\n",
       "      <td>43.24</td>\n",
       "      <td>2.52732</td>\n",
       "    </tr>\n",
       "    <tr>\n",
       "      <th>27831</th>\n",
       "      <td>2004-03-12</td>\n",
       "      <td>23:54:30.397811</td>\n",
       "      <td>65417</td>\n",
       "      <td>1.0</td>\n",
       "      <td>0</td>\n",
       "      <td>43.4191</td>\n",
       "      <td>43.24</td>\n",
       "      <td>2.51661</td>\n",
       "    </tr>\n",
       "    <tr>\n",
       "      <th>27832</th>\n",
       "      <td>2004-03-12</td>\n",
       "      <td>23:56:00.397295</td>\n",
       "      <td>65430</td>\n",
       "      <td>1.0</td>\n",
       "      <td>0</td>\n",
       "      <td>43.4524</td>\n",
       "      <td>43.24</td>\n",
       "      <td>2.51661</td>\n",
       "    </tr>\n",
       "    <tr>\n",
       "      <th>27833</th>\n",
       "      <td>2004-03-12</td>\n",
       "      <td>23:56:36.427983</td>\n",
       "      <td>65449</td>\n",
       "      <td>1.0</td>\n",
       "      <td>0</td>\n",
       "      <td>43.4524</td>\n",
       "      <td>43.24</td>\n",
       "      <td>2.52732</td>\n",
       "    </tr>\n",
       "    <tr>\n",
       "      <th>27834</th>\n",
       "      <td>2004-03-12</td>\n",
       "      <td>23:57:01.502975</td>\n",
       "      <td>65467</td>\n",
       "      <td>1.0</td>\n",
       "      <td>0</td>\n",
       "      <td>43.3858</td>\n",
       "      <td>43.24</td>\n",
       "      <td>2.51661</td>\n",
       "    </tr>\n",
       "    <tr>\n",
       "      <th>27835</th>\n",
       "      <td>2004-03-25</td>\n",
       "      <td>15:55:35.351813</td>\n",
       "      <td>65476</td>\n",
       "      <td>1.0</td>\n",
       "      <td>0</td>\n",
       "      <td>33.4556</td>\n",
       "      <td>71.76</td>\n",
       "      <td>2.21612</td>\n",
       "    </tr>\n",
       "    <tr>\n",
       "      <th>27836</th>\n",
       "      <td>2004-03-12</td>\n",
       "      <td>23:57:31.697669</td>\n",
       "      <td>65481</td>\n",
       "      <td>1.0</td>\n",
       "      <td>0</td>\n",
       "      <td>43.4191</td>\n",
       "      <td>43.24</td>\n",
       "      <td>2.51661</td>\n",
       "    </tr>\n",
       "    <tr>\n",
       "      <th>27837</th>\n",
       "      <td>2004-03-12</td>\n",
       "      <td>23:58:02.704755</td>\n",
       "      <td>65498</td>\n",
       "      <td>1.0</td>\n",
       "      <td>0</td>\n",
       "      <td>43.3191</td>\n",
       "      <td>43.24</td>\n",
       "      <td>2.51661</td>\n",
       "    </tr>\n",
       "    <tr>\n",
       "      <th>27838</th>\n",
       "      <td>2004-03-25</td>\n",
       "      <td>15:56:35.127648</td>\n",
       "      <td>65500</td>\n",
       "      <td>1.0</td>\n",
       "      <td>0</td>\n",
       "      <td>33.6302</td>\n",
       "      <td>71.76</td>\n",
       "      <td>2.21612</td>\n",
       "    </tr>\n",
       "    <tr>\n",
       "      <th>27839</th>\n",
       "      <td>2004-03-25</td>\n",
       "      <td>15:57:05.179572</td>\n",
       "      <td>65503</td>\n",
       "      <td>1.0</td>\n",
       "      <td>0</td>\n",
       "      <td>33.5604</td>\n",
       "      <td>71.76</td>\n",
       "      <td>2.21612</td>\n",
       "    </tr>\n",
       "  </tbody>\n",
       "</table>\n",
       "</div>"
      ],
      "text/plain": [
       "                0                1      2    3  4        5      6        7\n",
       "27830  2004-03-12   23:53:10.23256  65414  1.0  0  43.3858  43.24  2.52732\n",
       "27831  2004-03-12  23:54:30.397811  65417  1.0  0  43.4191  43.24  2.51661\n",
       "27832  2004-03-12  23:56:00.397295  65430  1.0  0  43.4524  43.24  2.51661\n",
       "27833  2004-03-12  23:56:36.427983  65449  1.0  0  43.4524  43.24  2.52732\n",
       "27834  2004-03-12  23:57:01.502975  65467  1.0  0  43.3858  43.24  2.51661\n",
       "27835  2004-03-25  15:55:35.351813  65476  1.0  0  33.4556  71.76  2.21612\n",
       "27836  2004-03-12  23:57:31.697669  65481  1.0  0  43.4191  43.24  2.51661\n",
       "27837  2004-03-12  23:58:02.704755  65498  1.0  0  43.3191  43.24  2.51661\n",
       "27838  2004-03-25  15:56:35.127648  65500  1.0  0  33.6302  71.76  2.21612\n",
       "27839  2004-03-25  15:57:05.179572  65503  1.0  0  33.5604  71.76  2.21612"
      ]
     },
     "execution_count": 22,
     "metadata": {},
     "output_type": "execute_result"
    }
   ],
   "source": [
    "# tamanho resultIntersecEp # CSV das épocas faltantes\n",
    "listofzeros = [0] * len(resultIntersecEp)\n",
    "\n",
    "#len(resultIntersecEp)\n",
    "myDicNewdf2 = {\n",
    "    '0':dplot[:len(resultIntersecEp)]['Date'],\n",
    "    '1':dplot[:len(resultIntersecEp)]['Time'],#data[:32828]['1']\n",
    "    '2':resultIntersecEp[:len(resultIntersecEp)],\n",
    "    '3':dplot[:len(resultIntersecEp)]['Moteid'], \n",
    "    '4':listofzeros,\n",
    "    '5':dplot[:len(resultIntersecEp)]['Humidity'],\n",
    "    '6':dplot[:len(resultIntersecEp)]['Light'],\n",
    "    '7':dplot[:len(resultIntersecEp)]['Voltage']  \n",
    "}\n",
    "\n",
    "dfOut = pd.DataFrame(myDicNewdf2)\n",
    "print(dfOut.shape[0])\n",
    "dfOut.to_csv('csvAllOutliers.csv', index=False)\n",
    "dfOut.tail(10)\n"
   ]
  },
  {
   "cell_type": "markdown",
   "metadata": {},
   "source": [
    "# Gerando o csv para fazer reconstrução dos dados"
   ]
  },
  {
   "cell_type": "code",
   "execution_count": 23,
   "metadata": {},
   "outputs": [
    {
     "name": "stdout",
     "output_type": "stream",
     "text": [
      "(65629, 8)\n"
     ]
    }
   ],
   "source": [
    "# Gerando o csv para fazer reconstrução dos dados\n",
    "dfFinalStep = pd.concat([dfOut,passoO], sort='2', axis=0)\n",
    "dfFinalStep.sort_values(by = '2', inplace = True)\n",
    "\n",
    "# dfFinalStep.set_index('2', inplace=True)\n",
    "print(dfFinalStep.shape)\n",
    "\n",
    "dfFinalStep.tail(10)\n",
    "# 65536-65623\n",
    "dfFinalStep.to_csv('dfImputation.csv', index=False)"
   ]
  },
  {
   "cell_type": "markdown",
   "metadata": {},
   "source": [
    "# Depois de ter obtido o resultado do script joga o resultado aqui"
   ]
  },
  {
   "cell_type": "code",
   "execution_count": 24,
   "metadata": {},
   "outputs": [
    {
     "data": {
      "text/plain": [
       "((65536, 9), (65629, 8))"
      ]
     },
     "execution_count": 24,
     "metadata": {},
     "output_type": "execute_result"
    }
   ],
   "source": [
    "final= pd.read_csv('finalsensor.csv')\n",
    "teste = final.drop_duplicates(subset=['2'],keep='first', inplace=False)\n",
    "teste.shape, dfFinalStep.shape\n"
   ]
  }
 ],
 "metadata": {
  "celltoolbar": "Raw Cell Format",
  "kernelspec": {
   "display_name": "Python 3",
   "language": "python",
   "name": "python3"
  },
  "language_info": {
   "codemirror_mode": {
    "name": "ipython",
    "version": 3
   },
   "file_extension": ".py",
   "mimetype": "text/x-python",
   "name": "python",
   "nbconvert_exporter": "python",
   "pygments_lexer": "ipython3",
   "version": "3.6.5"
  }
 },
 "nbformat": 4,
 "nbformat_minor": 2
}
