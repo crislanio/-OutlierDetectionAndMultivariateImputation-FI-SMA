{
 "cells": [
  {
   "cell_type": "markdown",
   "metadata": {},
   "source": [
    "# Notebook para tratamento dos dados"
   ]
  },
  {
   "cell_type": "code",
   "execution_count": 3,
   "metadata": {},
   "outputs": [],
   "source": [
    "import pandas as pd\n",
    "import numpy as np\n",
    "import matplotlib.pyplot as plt\n",
    "import seaborn as sns\n",
    "from sklearn.model_selection import train_test_split\n",
    "\n",
    "#style.use('seaborn')\n",
    "%matplotlib inline\n"
   ]
  },
  {
   "cell_type": "code",
   "execution_count": 4,
   "metadata": {},
   "outputs": [],
   "source": [
    "import warnings\n",
    "warnings.filterwarnings('ignore')\n",
    "warnings.simplefilter(action='ignore', category=FutureWarning)\n",
    "with warnings.catch_warnings():\n",
    "    warnings.simplefilter(\"ignore\")\n",
    "    from sklearn import preprocessing, metrics\n"
   ]
  },
  {
   "cell_type": "code",
   "execution_count": 5,
   "metadata": {},
   "outputs": [],
   "source": [
    "# !pip install -U scikit-fuzzy\n",
    "import sys\n",
    "import skfuzzy as fuzz\n",
    "sys.setrecursionlimit(1000)"
   ]
  },
  {
   "cell_type": "code",
   "execution_count": 6,
   "metadata": {},
   "outputs": [],
   "source": [
    "data_column_names = [\"Date\", \"Time\", \"Epoch\", \"Moteid\", \"Temperature\", \"Humidity\", \"Light\", \"Voltage\"]\n",
    "dplot = pd.read_csv(\"../data.txt\", sep = ' ', names = data_column_names)\n",
    "\n",
    "S7df = dplot[dplot['Moteid']==7]\n",
    "S9df = dplot[dplot['Moteid']==9]"
   ]
  },
  {
   "cell_type": "code",
   "execution_count": 7,
   "metadata": {},
   "outputs": [
    {
     "data": {
      "text/plain": [
       "((55361, 8), (65543, 8), (49890, 8))"
      ]
     },
     "execution_count": 7,
     "metadata": {},
     "output_type": "execute_result"
    }
   ],
   "source": [
    "S8df = pd.read_csv('dfImputation.csv')\n",
    "S7df.shape,S8df.shape,S9df.shape"
   ]
  },
  {
   "cell_type": "code",
   "execution_count": 8,
   "metadata": {},
   "outputs": [
    {
     "data": {
      "text/html": [
       "<div>\n",
       "<style scoped>\n",
       "    .dataframe tbody tr th:only-of-type {\n",
       "        vertical-align: middle;\n",
       "    }\n",
       "\n",
       "    .dataframe tbody tr th {\n",
       "        vertical-align: top;\n",
       "    }\n",
       "\n",
       "    .dataframe thead th {\n",
       "        text-align: right;\n",
       "    }\n",
       "</style>\n",
       "<table border=\"1\" class=\"dataframe\">\n",
       "  <thead>\n",
       "    <tr style=\"text-align: right;\">\n",
       "      <th></th>\n",
       "      <th>0</th>\n",
       "      <th>1</th>\n",
       "      <th>2</th>\n",
       "      <th>3</th>\n",
       "      <th>4</th>\n",
       "      <th>5</th>\n",
       "      <th>6</th>\n",
       "      <th>7</th>\n",
       "    </tr>\n",
       "  </thead>\n",
       "  <tbody>\n",
       "    <tr>\n",
       "      <th>0</th>\n",
       "      <td>2004-03-31</td>\n",
       "      <td>03:38:15.757551</td>\n",
       "      <td>0</td>\n",
       "      <td>8.0</td>\n",
       "      <td>0.0</td>\n",
       "      <td>-3.91901</td>\n",
       "      <td>11.04</td>\n",
       "      <td>2.03397</td>\n",
       "    </tr>\n",
       "    <tr>\n",
       "      <th>1</th>\n",
       "      <td>2004-02-28</td>\n",
       "      <td>00:59:16.02785</td>\n",
       "      <td>1</td>\n",
       "      <td>8.0</td>\n",
       "      <td>0.0</td>\n",
       "      <td>37.09330</td>\n",
       "      <td>45.08</td>\n",
       "      <td>2.69964</td>\n",
       "    </tr>\n",
       "    <tr>\n",
       "      <th>2</th>\n",
       "      <td>2004-02-28</td>\n",
       "      <td>01:03:16.33393</td>\n",
       "      <td>2</td>\n",
       "      <td>8.0</td>\n",
       "      <td>0.0</td>\n",
       "      <td>38.46290</td>\n",
       "      <td>45.08</td>\n",
       "      <td>2.68742</td>\n",
       "    </tr>\n",
       "    <tr>\n",
       "      <th>3</th>\n",
       "      <td>2004-02-28</td>\n",
       "      <td>01:06:16.013453</td>\n",
       "      <td>3</td>\n",
       "      <td>8.0</td>\n",
       "      <td>0.0</td>\n",
       "      <td>38.80390</td>\n",
       "      <td>45.08</td>\n",
       "      <td>2.68742</td>\n",
       "    </tr>\n",
       "    <tr>\n",
       "      <th>4</th>\n",
       "      <td>2004-02-28</td>\n",
       "      <td>01:06:46.778088</td>\n",
       "      <td>4</td>\n",
       "      <td>8.0</td>\n",
       "      <td>0.0</td>\n",
       "      <td>38.83790</td>\n",
       "      <td>45.08</td>\n",
       "      <td>2.69964</td>\n",
       "    </tr>\n",
       "  </tbody>\n",
       "</table>\n",
       "</div>"
      ],
      "text/plain": [
       "            0                1  2    3    4         5      6        7\n",
       "0  2004-03-31  03:38:15.757551  0  8.0  0.0  -3.91901  11.04  2.03397\n",
       "1  2004-02-28   00:59:16.02785  1  8.0  0.0  37.09330  45.08  2.69964\n",
       "2  2004-02-28   01:03:16.33393  2  8.0  0.0  38.46290  45.08  2.68742\n",
       "3  2004-02-28  01:06:16.013453  3  8.0  0.0  38.80390  45.08  2.68742\n",
       "4  2004-02-28  01:06:46.778088  4  8.0  0.0  38.83790  45.08  2.69964"
      ]
     },
     "execution_count": 8,
     "metadata": {},
     "output_type": "execute_result"
    }
   ],
   "source": [
    "S8df['3'] = 8.0\n",
    "S8df.head()"
   ]
  },
  {
   "cell_type": "code",
   "execution_count": 9,
   "metadata": {},
   "outputs": [
    {
     "name": "stdout",
     "output_type": "stream",
     "text": [
      "12481\n"
     ]
    }
   ],
   "source": [
    "# print(S1df.shape)\n",
    "outliersIListaS2 = []\n",
    "outliersIListaVS2 = []\n",
    "for i, row in S7df.iterrows():\n",
    "    if row['Temperature'] >=26.2:\n",
    "        outliersIListaS2.append(i)\n",
    "        outliersIListaVS2.append(row['Temperature'])\n",
    "print(len(outliersIListaS2))\n"
   ]
  },
  {
   "cell_type": "code",
   "execution_count": 10,
   "metadata": {},
   "outputs": [
    {
     "name": "stdout",
     "output_type": "stream",
     "text": [
      "(55361, 8)\n",
      "(42880, 8)\n"
     ]
    }
   ],
   "source": [
    "# Removendo outliers no S1\n",
    "passo3S1= S7df.copy()\n",
    "print(passo3S1.shape)\n",
    "passo3S1= passo3S1.drop(outliersIListaS2)\n",
    "print(passo3S1.shape)\n",
    "passo3S1.to_csv('S7FINAL.csv')"
   ]
  },
  {
   "cell_type": "code",
   "execution_count": 11,
   "metadata": {},
   "outputs": [
    {
     "name": "stdout",
     "output_type": "stream",
     "text": [
      "10022\n"
     ]
    }
   ],
   "source": [
    "outliersIListaS1 = []\n",
    "outliersIListaVS1 = []\n",
    "for i, row in S9df.iterrows():\n",
    "    if row['Temperature'] >=26.2:\n",
    "        outliersIListaS1.append(i)\n",
    "        outliersIListaVS1.append(row['Temperature'])\n",
    "print(len(outliersIListaS1))\n"
   ]
  },
  {
   "cell_type": "code",
   "execution_count": 13,
   "metadata": {},
   "outputs": [
    {
     "name": "stdout",
     "output_type": "stream",
     "text": [
      "(49890, 8)\n",
      "(39868, 8)\n"
     ]
    }
   ],
   "source": [
    "# Removendo outliers no S2\n",
    "passo3S2= S9df.copy()\n",
    "print(passo3S2.shape)\n",
    "passo3S2= passo3S2.drop(outliersIListaS1)\n",
    "print(passo3S2.shape)\n",
    "passo3S2.to_csv('S9FInal.csv')"
   ]
  },
  {
   "cell_type": "code",
   "execution_count": 12,
   "metadata": {},
   "outputs": [
    {
     "name": "stdout",
     "output_type": "stream",
     "text": [
      "0\n"
     ]
    }
   ],
   "source": [
    "outliersIListaS3 = []\n",
    "outliersIListaVS3 = []\n",
    "for i, row in S8df.iterrows():\n",
    "    if row['4'] >=26.2:\n",
    "        outliersIListaS3.append(i)\n",
    "        outliersIListaVS3.append(row['4'])\n",
    "print(len(outliersIListaS3))\n"
   ]
  },
  {
   "cell_type": "code",
   "execution_count": 13,
   "metadata": {},
   "outputs": [
    {
     "name": "stdout",
     "output_type": "stream",
     "text": [
      "(65543, 8)\n",
      "(65543, 8)\n"
     ]
    }
   ],
   "source": [
    "# Removendo outliers no S33\n",
    "passo3S33= S8df.copy()\n",
    "print(passo3S33.shape)\n",
    "passo3S33= passo3S33.drop(outliersIListaS3)\n",
    "print(passo3S33.shape)\n",
    "passo3S33.to_csv('S8FInal.csv')"
   ]
  },
  {
   "cell_type": "code",
   "execution_count": 14,
   "metadata": {},
   "outputs": [
    {
     "data": {
      "text/plain": [
       "((42880, 9), (65543, 9), (39868, 9))"
      ]
     },
     "execution_count": 14,
     "metadata": {},
     "output_type": "execute_result"
    }
   ],
   "source": [
    "S7df_ = pd.read_csv('S7FInal.csv')\n",
    "S8df_ = pd.read_csv('S8FInal.csv')\n",
    "S9df_ = pd.read_csv('S9FInal.csv')\n",
    "\n",
    "S7df_.shape, S8df_.shape, S9df_.shape"
   ]
  },
  {
   "cell_type": "markdown",
   "metadata": {},
   "source": [
    "# Sistema Fuzzy"
   ]
  },
  {
   "cell_type": "code",
   "execution_count": 15,
   "metadata": {},
   "outputs": [],
   "source": [
    "# Modelo Fuzzy\n",
    "temp = np.arange(-26.2, 26.2, 0.1)\n",
    "tempF = np.arange(-26.2, 26.2, 0.1)\n",
    "\n",
    "# Generate fuzzy membership functions\n",
    "temp_lo = fuzz.trimf(temp, [-26.2, 0.0, 5.0])  \n",
    "temp_md = fuzz.trimf(temp, [0.0, 5.0, 20.0])      \n",
    "temp_hi = fuzz.trimf(temp, [17.20, 22.8, 26.2]) \n",
    "\n",
    "\n",
    "mfx = fuzz.trapmf(tempF, [-26.2, 5.0, 17.20, 26.2])\n",
    "\n",
    "\n",
    "tempFinal_lo = fuzz.trapmf(tempF, [-26.2, 5.0, 17.20, 26.2]) \n",
    "tempFinal_md = fuzz.trimf(tempF, [0, 5.0, 20.0]) \n",
    "tempFinal_hi = fuzz.trimf(tempF, [17.20, 22.8, 26.2])\n"
   ]
  },
  {
   "cell_type": "code",
   "execution_count": 16,
   "metadata": {},
   "outputs": [
    {
     "data": {
      "image/png": "[encoded data removed]",
      "text/plain": [
       "<Figure size 576x648 with 2 Axes>"
      ]
     },
     "metadata": {},
     "output_type": "display_data"
    }
   ],
   "source": [
    "# Visualize these universes and membership functions\n",
    "fig, (ax0, ax1) = plt.subplots(nrows=2, figsize=(8, 9))\n",
    "\n",
    "ax0.plot(temp, temp_lo, 'b', linewidth=1.5, label='Baixa')\n",
    "ax0.plot(temp, temp_md, 'g', linewidth=1.5, label='Média')\n",
    "ax0.plot(temp, temp_hi, 'r', linewidth=1.5, label='Alta')\n",
    "ax0.set_title('Temperature')\n",
    "ax0.legend()\n",
    "\n",
    "ax1.plot(tempF, tempFinal_lo, 'b', linewidth=1.5, label='Baixa')\n",
    "ax1.plot(tempF, tempFinal_md, 'g', linewidth=1.5, label='Média')\n",
    "ax1.plot(tempF, tempFinal_hi, 'r', linewidth=1.5, label='Alta')\n",
    "ax1.set_title('Final - Temperature ')\n",
    "ax1.legend()\n",
    "\n",
    "# Turn off top/right axes\n",
    "for ax in (ax0, ax1):\n",
    "    ax.spines['top'].set_visible(False)\n",
    "    ax.spines['right'].set_visible(False)\n",
    "    ax.get_xaxis().tick_bottom()\n",
    "    ax.get_yaxis().tick_left()\n",
    "\n",
    "plt.tight_layout()\n"
   ]
  },
  {
   "cell_type": "code",
   "execution_count": 17,
   "metadata": {},
   "outputs": [],
   "source": [
    "def fuzification(i, data, data1, data2): \n",
    "    if data['3'].ix[i]== 8:\n",
    "        temp_level_lo0 = fuzz.interp_membership(temp, temp_lo,  data1['Temperature'][i]) # ex: [52, [51, 52]]\n",
    "        temp_level_md0 = fuzz.interp_membership(temp, temp_md,  data1['Temperature'][i])\n",
    "        temp_level_hi0 = fuzz.interp_membership(temp, temp_hi,  data1['Temperature'][i])\n",
    "\n",
    "        temp_level_lo1 = fuzz.interp_membership(temp, temp_lo,  data2['Temperature'][i])\n",
    "        temp_level_md1 = fuzz.interp_membership(temp, temp_md,  data2['Temperature'][i])\n",
    "        temp_level_hi1 = fuzz.interp_membership(temp, temp_hi,  data2['Temperature'][i])\n",
    "\n",
    "        active_rule1_0 = np.fmin(temp_level_lo0, temp_level_lo1)\n",
    "        active_rule1_1 = np.fmin(temp_level_lo0, temp_level_md1)\n",
    "        active_rule1_2 = np.fmin(temp_level_lo0, temp_level_hi1)\n",
    "        active_rule1_3 = np.fmin(temp_level_md0, temp_level_lo1)\n",
    "        active_rule1_4 = np.fmin(temp_level_md0, temp_level_md1)\n",
    "        active_rule1_5 = np.fmin(temp_level_md0, temp_level_hi1)\n",
    "        active_rule1_6 = np.fmin(temp_level_hi0, temp_level_lo1)\n",
    "        active_rule1_7 = np.fmin(temp_level_hi0, temp_level_md1)\n",
    "        active_rule1_8 = np.fmin(temp_level_hi0, temp_level_hi1)\n",
    "\n",
    "\n",
    "        active_rule1_Final_0 = np.fmax(active_rule1_0, tempFinal_lo)\n",
    "        active_rule1_Final_1 = np.fmax(active_rule1_1, tempFinal_lo)\n",
    "        active_rule1_Final_2 = np.fmax(active_rule1_2, tempFinal_md)\n",
    "        active_rule1_Final_3 = np.fmax(active_rule1_3, tempFinal_lo)\n",
    "        active_rule1_Final_4 = np.fmax(active_rule1_4, tempFinal_hi)\n",
    "        active_rule1_Final_5 = np.fmax(active_rule1_5, tempFinal_hi)\n",
    "        active_rule1_Final_6 = np.fmax(active_rule1_6, tempFinal_md)\n",
    "        active_rule1_Final_7 = np.fmax(active_rule1_7, tempFinal_hi)\n",
    "        active_rule1_Final_8 = np.fmax(active_rule1_8, tempFinal_hi)\n",
    "\n",
    "        r1_0 = np.fmax(active_rule1_Final_8, np.fmax(active_rule1_Final_7, np.fmax(active_rule1_Final_6, active_rule1_Final_5) ) )  \n",
    "        r1_1 = np.fmax(active_rule1_Final_5, np.fmax(active_rule1_Final_3, np.fmax(active_rule1_Final_2, np.fmax(active_rule1_Final_1, active_rule1_Final_0)) ) )  \n",
    "        aggregated = np.fmax(r1_0,r1_1)\n",
    "        return aggregated  \n"
   ]
  },
  {
   "cell_type": "code",
   "execution_count": 19,
   "metadata": {},
   "outputs": [],
   "source": [
    "def defuzz(x, mfx, mode):\n",
    "    \"\"\"\n",
    "    Defuzzification of a membership function, returning a defuzzified value\n",
    "    of the function at x, using various defuzzification methods.\n",
    "\n",
    "    Parameters\n",
    "    ----------\n",
    "    x : 1d array or iterable, length N\n",
    "        Independent variable.\n",
    "    mfx : 1d array of iterable, length N\n",
    "        Fuzzy membership function.\n",
    "    mode : string\n",
    "        Controls which defuzzification method will be used.\n",
    "        * 'centroid': Centroid of area\n",
    "        * 'bisector': bisector of area\n",
    "        * 'mom'        : mean of maximum\n",
    "        * 'som'        : min of maximum\n",
    "        * 'lom'        : max of maximum\n",
    "\n",
    "    Returns\n",
    "    -------\n",
    "    u : float or int\n",
    "        Defuzzified result.\n",
    "\n",
    "    See also\n",
    "    --------\n",
    "    CENTROID, DCENTROID\n",
    "\n",
    "    \"\"\"\n",
    "    mode = mode.lower()\n",
    "    x = x.ravel()\n",
    "    mfx = mfx.ravel()\n",
    "    n = len(x)\n",
    "    assert n == len(mfx), 'Length of x and fuzzy membership function must be \\\n",
    "                          identical.'\n",
    "\n",
    "    if 'Centroid' in mode or 'bisector' in mode:\n",
    "        tot_area = mfx.sum()\n",
    "        assert tot_area != 0, 'Total area is zero in defuzzification!'\n",
    "\n",
    "        if 'Centroid' in mode:\n",
    "            return centroid(x, mfx)\n",
    "\n",
    "        elif 'bisector' in mode:\n",
    "            tmp = 0\n",
    "            for k in range(n):\n",
    "                tmp += mfx[k]\n",
    "                if tmp >= tot_area / 2.:\n",
    "                    return x[k]\n",
    "\n",
    "    elif 'mom' in mode:\n",
    "        return np.mean(x[mfx == mfx.max()])\n",
    "\n",
    "    elif 'som' in mode:\n",
    "        tmp = x[mfx == mfx.max()]\n",
    "        return tmp[tmp == np.abs(tmp).min()][0]\n",
    "\n",
    "    elif 'lom' in mode:\n",
    "        tmp = x[mfx == mfx.max()]\n",
    "        return tmp[tmp == np.abs(tmp).max()][0]\n",
    "\n",
    "    else:\n",
    "        raise ValueError('The input for `mode`, %s, was incorrect.' % (mode))\n",
    "\n"
   ]
  },
  {
   "cell_type": "code",
   "execution_count": 21,
   "metadata": {},
   "outputs": [
    {
     "data": {
      "text/html": [
       "<div>\n",
       "<style scoped>\n",
       "    .dataframe tbody tr th:only-of-type {\n",
       "        vertical-align: middle;\n",
       "    }\n",
       "\n",
       "    .dataframe tbody tr th {\n",
       "        vertical-align: top;\n",
       "    }\n",
       "\n",
       "    .dataframe thead th {\n",
       "        text-align: right;\n",
       "    }\n",
       "</style>\n",
       "<table border=\"1\" class=\"dataframe\">\n",
       "  <thead>\n",
       "    <tr style=\"text-align: right;\">\n",
       "      <th></th>\n",
       "      <th>Unnamed: 0</th>\n",
       "      <th>0</th>\n",
       "      <th>1</th>\n",
       "      <th>2</th>\n",
       "      <th>3</th>\n",
       "      <th>4</th>\n",
       "      <th>5</th>\n",
       "      <th>6</th>\n",
       "      <th>7</th>\n",
       "    </tr>\n",
       "  </thead>\n",
       "  <tbody>\n",
       "    <tr>\n",
       "      <th>0</th>\n",
       "      <td>0</td>\n",
       "      <td>2004-03-31</td>\n",
       "      <td>03:38:15.757551</td>\n",
       "      <td>0</td>\n",
       "      <td>8.0</td>\n",
       "      <td>17.1</td>\n",
       "      <td>-3.91901</td>\n",
       "      <td>11.04</td>\n",
       "      <td>2.03397</td>\n",
       "    </tr>\n",
       "  </tbody>\n",
       "</table>\n",
       "</div>"
      ],
      "text/plain": [
       "   Unnamed: 0           0                1  2    3     4        5      6  \\\n",
       "0           0  2004-03-31  03:38:15.757551  0  8.0  17.1 -3.91901  11.04   \n",
       "\n",
       "         7  \n",
       "0  2.03397  "
      ]
     },
     "execution_count": 21,
     "metadata": {},
     "output_type": "execute_result"
    }
   ],
   "source": [
    "S8df_.head(1)"
   ]
  },
  {
   "cell_type": "code",
   "execution_count": 20,
   "metadata": {},
   "outputs": [
    {
     "data": {
      "text/html": [
       "<div>\n",
       "<style scoped>\n",
       "    .dataframe tbody tr th:only-of-type {\n",
       "        vertical-align: middle;\n",
       "    }\n",
       "\n",
       "    .dataframe tbody tr th {\n",
       "        vertical-align: top;\n",
       "    }\n",
       "\n",
       "    .dataframe thead th {\n",
       "        text-align: right;\n",
       "    }\n",
       "</style>\n",
       "<table border=\"1\" class=\"dataframe\">\n",
       "  <thead>\n",
       "    <tr style=\"text-align: right;\">\n",
       "      <th></th>\n",
       "      <th>Unnamed: 0</th>\n",
       "      <th>0</th>\n",
       "      <th>1</th>\n",
       "      <th>2</th>\n",
       "      <th>3</th>\n",
       "      <th>4</th>\n",
       "      <th>5</th>\n",
       "      <th>6</th>\n",
       "      <th>7</th>\n",
       "    </tr>\n",
       "  </thead>\n",
       "  <tbody>\n",
       "    <tr>\n",
       "      <th>65538</th>\n",
       "      <td>65538</td>\n",
       "      <td>2004-03-02</td>\n",
       "      <td>11:54:16.104475</td>\n",
       "      <td>65531</td>\n",
       "      <td>8.0</td>\n",
       "      <td>17.1</td>\n",
       "      <td>33.0009</td>\n",
       "      <td>412.16</td>\n",
       "      <td>2.67532</td>\n",
       "    </tr>\n",
       "    <tr>\n",
       "      <th>65539</th>\n",
       "      <td>65539</td>\n",
       "      <td>2004-03-02</td>\n",
       "      <td>11:54:31.292936</td>\n",
       "      <td>65532</td>\n",
       "      <td>8.0</td>\n",
       "      <td>17.1</td>\n",
       "      <td>32.9308</td>\n",
       "      <td>412.16</td>\n",
       "      <td>2.67532</td>\n",
       "    </tr>\n",
       "    <tr>\n",
       "      <th>65540</th>\n",
       "      <td>65540</td>\n",
       "      <td>2004-03-02</td>\n",
       "      <td>11:55:23.747216</td>\n",
       "      <td>65533</td>\n",
       "      <td>8.0</td>\n",
       "      <td>17.1</td>\n",
       "      <td>33.0009</td>\n",
       "      <td>412.16</td>\n",
       "      <td>2.67532</td>\n",
       "    </tr>\n",
       "    <tr>\n",
       "      <th>65541</th>\n",
       "      <td>65541</td>\n",
       "      <td>2004-03-02</td>\n",
       "      <td>11:56:15.320018</td>\n",
       "      <td>65534</td>\n",
       "      <td>8.0</td>\n",
       "      <td>17.1</td>\n",
       "      <td>32.9308</td>\n",
       "      <td>412.16</td>\n",
       "      <td>2.67532</td>\n",
       "    </tr>\n",
       "    <tr>\n",
       "      <th>65542</th>\n",
       "      <td>65542</td>\n",
       "      <td>2004-03-02</td>\n",
       "      <td>11:56:29.016964</td>\n",
       "      <td>65535</td>\n",
       "      <td>8.0</td>\n",
       "      <td>17.1</td>\n",
       "      <td>32.9659</td>\n",
       "      <td>412.16</td>\n",
       "      <td>2.67532</td>\n",
       "    </tr>\n",
       "  </tbody>\n",
       "</table>\n",
       "</div>"
      ],
      "text/plain": [
       "       Unnamed: 0           0                1      2    3     4        5  \\\n",
       "65538       65538  2004-03-02  11:54:16.104475  65531  8.0  17.1  33.0009   \n",
       "65539       65539  2004-03-02  11:54:31.292936  65532  8.0  17.1  32.9308   \n",
       "65540       65540  2004-03-02  11:55:23.747216  65533  8.0  17.1  33.0009   \n",
       "65541       65541  2004-03-02  11:56:15.320018  65534  8.0  17.1  32.9308   \n",
       "65542       65542  2004-03-02  11:56:29.016964  65535  8.0  17.1  32.9659   \n",
       "\n",
       "            6        7  \n",
       "65538  412.16  2.67532  \n",
       "65539  412.16  2.67532  \n",
       "65540  412.16  2.67532  \n",
       "65541  412.16  2.67532  \n",
       "65542  412.16  2.67532  "
      ]
     },
     "execution_count": 20,
     "metadata": {},
     "output_type": "execute_result"
    }
   ],
   "source": [
    "aux = 0.0\n",
    "for i, row in S8df_.iterrows():\n",
    "        if S8df_['4'][i] == 0.0:            \n",
    "            try:\n",
    "                S8df_.at[i, '4'] = defuzz(tempF,fuzification(i, S8df_, S7df_, S9df_ ), 'lom')\n",
    "                aux = defuzz(tempF,fuzification(i, S8df_, S7df_, S9df_ ), 'lom')\n",
    "            except:\n",
    "                S8df_.at[i, '4'] = aux\n",
    "                \n",
    "S8df_.tail()"
   ]
  },
  {
   "cell_type": "code",
   "execution_count": 22,
   "metadata": {},
   "outputs": [
    {
     "name": "stdout",
     "output_type": "stream",
     "text": [
      "(65543, 9)\n"
     ]
    }
   ],
   "source": [
    "print(S8df_.shape)\n",
    "S8df_.to_csv('finalS8.csv', index=False)\n"
   ]
  },
  {
   "cell_type": "markdown",
   "metadata": {},
   "source": [
    "# Final"
   ]
  }
 ],
 "metadata": {
  "kernelspec": {
   "display_name": "Python 3",
   "language": "python",
   "name": "python3"
  },
  "language_info": {
   "codemirror_mode": {
    "name": "ipython",
    "version": 3
   },
   "file_extension": ".py",
   "mimetype": "text/x-python",
   "name": "python",
   "nbconvert_exporter": "python",
   "pygments_lexer": "ipython3",
   "version": "3.6.5"
  }
 },
 "nbformat": 4,
 "nbformat_minor": 2
}
